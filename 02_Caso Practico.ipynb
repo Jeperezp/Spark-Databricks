{
 "cells": [
  {
   "cell_type": "markdown",
   "metadata": {
    "application/vnd.databricks.v1+cell": {
     "cellMetadata": {
      "byteLimit": 2048000,
      "rowLimit": 10000
     },
     "inputWidgets": {},
     "nuid": "45623cbe-38ab-4acb-acaf-4c2c22840093",
     "showTitle": false,
     "tableResultSettingsMap": {},
     "title": ""
    }
   },
   "source": [
    "### Caso Práctico: Datos Poblacionales"
   ]
  },
  {
   "cell_type": "markdown",
   "metadata": {
    "application/vnd.databricks.v1+cell": {
     "cellMetadata": {
      "byteLimit": 2048000,
      "rowLimit": 10000
     },
     "inputWidgets": {},
     "nuid": "56c0c17c-fc88-4de2-87a8-21e8ef401d50",
     "showTitle": false,
     "tableResultSettingsMap": {},
     "title": ""
    }
   },
   "source": [
    "### Listar Archivos y Carpetas en DBFS\n",
    "\n",
    "En este ejemplo, utilizamos el comando `dbutils.fs.ls()` para listar los archivos y carpetas dentro de una ruta específica en el **Databricks File System (DBFS)**. El comando permite explorar el sistema de archivos de Databricks desde un notebook, lo que facilita el acceso a los datos almacenados en el entorno de ejecución"
   ]
  },
  {
   "cell_type": "code",
   "execution_count": 0,
   "metadata": {
    "application/vnd.databricks.v1+cell": {
     "cellMetadata": {
      "byteLimit": 2048000,
      "rowLimit": 10000
     },
     "inputWidgets": {},
     "nuid": "ed92a19f-9e17-4ed9-b80b-80566a0a9f33",
     "showTitle": false,
     "tableResultSettingsMap": {},
     "title": ""
    }
   },
   "outputs": [
    {
     "output_type": "stream",
     "name": "stdout",
     "output_type": "stream",
     "text": [
      "Out[1]: [FileInfo(path='dbfs:/databricks-datasets/samples/adam/', name='adam/', size=0, modificationTime=0),\n FileInfo(path='dbfs:/databricks-datasets/samples/data/', name='data/', size=0, modificationTime=0),\n FileInfo(path='dbfs:/databricks-datasets/samples/docs/', name='docs/', size=0, modificationTime=0),\n FileInfo(path='dbfs:/databricks-datasets/samples/lending_club/', name='lending_club/', size=0, modificationTime=0),\n FileInfo(path='dbfs:/databricks-datasets/samples/newsgroups/', name='newsgroups/', size=0, modificationTime=0),\n FileInfo(path='dbfs:/databricks-datasets/samples/people/', name='people/', size=0, modificationTime=0),\n FileInfo(path='dbfs:/databricks-datasets/samples/population-vs-price/', name='population-vs-price/', size=0, modificationTime=0)]"
     ]
    }
   ],
   "source": [
    "dbutils.fs.ls('/databricks-datasets/samples/')"
   ]
  },
  {
   "cell_type": "markdown",
   "metadata": {
    "application/vnd.databricks.v1+cell": {
     "cellMetadata": {
      "byteLimit": 2048000,
      "rowLimit": 10000
     },
     "inputWidgets": {},
     "nuid": "6755329b-4b61-4100-b8ef-c643c526c851",
     "showTitle": false,
     "tableResultSettingsMap": {},
     "title": ""
    }
   },
   "source": [
    "### Cargar y Preprocesar Datos\n",
    "\n",
    "En este bloque de código, cargamos un archivo CSV desde DBFS y realizamos algunos pasos de preprocesamiento:\n",
    "- 1. Lectura del archivo csv\n",
    "```pyspark\n",
    "data = spark.read.csv(\"/databricks-datasets/samples/population-vs-price/data_geo.csv\", header=\"true\", inferSchema=\"true\") \n",
    "```\n",
    "- 2. Cachear los Datos\n",
    "```pyspark\n",
    "data.cache()\n",
    "```\n",
    "- 3 Eliminar los Nulos\n",
    "```pyspark\n",
    "data = data.dropna()\n",
    "```\n"
   ]
  },
  {
   "cell_type": "code",
   "execution_count": 0,
   "metadata": {
    "application/vnd.databricks.v1+cell": {
     "cellMetadata": {
      "byteLimit": 2048000,
      "rowLimit": 10000
     },
     "inputWidgets": {},
     "nuid": "30e359d9-7777-4389-bbc2-bd79a304c64b",
     "showTitle": false,
     "tableResultSettingsMap": {},
     "title": ""
    }
   },
   "outputs": [],
   "source": [
    "data = spark.read.csv(\"/databricks-datasets/samples/population-vs-price/data_geo.csv\", header=\"true\", inferSchema=\"true\") \n",
    "data.cache()  # Cache data for faster reuse\n",
    "data = data.dropna() # drop rows with missing values"
   ]
  },
  {
   "cell_type": "code",
   "execution_count": 0,
   "metadata": {
    "application/vnd.databricks.v1+cell": {
     "cellMetadata": {
      "byteLimit": 2048000,
      "rowLimit": 10000
     },
     "inputWidgets": {},
     "nuid": "19e9e2a9-3a73-4d90-a78f-aec43e852349",
     "showTitle": false,
     "tableResultSettingsMap": {},
     "title": ""
    }
   },
   "outputs": [
    {
     "output_type": "stream",
     "name": "stdout",
     "output_type": "stream",
     "text": [
      "Out[3]: [Row(2014 rank=101, City='Birmingham', State='Alabama', State Code='AL', 2014 Population estimate=212247, 2015 median sales price=162.9),\n Row(2014 rank=125, City='Huntsville', State='Alabama', State Code='AL', 2014 Population estimate=188226, 2015 median sales price=157.7),\n Row(2014 rank=122, City='Mobile', State='Alabama', State Code='AL', 2014 Population estimate=194675, 2015 median sales price=122.5),\n Row(2014 rank=114, City='Montgomery', State='Alabama', State Code='AL', 2014 Population estimate=200481, 2015 median sales price=129.0),\n Row(2014 rank=6, City='Phoenix', State='Arizona', State Code='AZ', 2014 Population estimate=1537058, 2015 median sales price=206.1),\n Row(2014 rank=33, City='Tucson', State='Arizona', State Code='AZ', 2014 Population estimate=527972, 2015 median sales price=178.1),\n Row(2014 rank=119, City='Little Rock', State='Arkansas', State Code='AR', 2014 Population estimate=197706, 2015 median sales price=131.8),\n Row(2014 rank=56, City='Anaheim', State='California', State Code='CA', 2014 Population estimate=346997, 2015 median sales price=685.7),\n Row(2014 rank=2, City='Los Angeles', State='California', State Code='CA', 2014 Population estimate=3928864, 2015 median sales price=434.7),\n Row(2014 rank=59, City='Riverside', State='California', State Code='CA', 2014 Population estimate=319504, 2015 median sales price=281.0)]"
     ]
    }
   ],
   "source": [
    "data.take(10)"
   ]
  },
  {
   "cell_type": "markdown",
   "metadata": {
    "application/vnd.databricks.v1+cell": {
     "cellMetadata": {},
     "inputWidgets": {},
     "nuid": "f91d31e7-ea90-4957-8bdf-117e051d25eb",
     "showTitle": false,
     "tableResultSettingsMap": {},
     "title": ""
    }
   },
   "source": [
    "### Mostrar Datos con `display`\n",
    "\n",
    "El método `display` se utiliza para visualizar de manera interactiva el contenido de un DataFrame en un notebook de Databricks. A diferencia de `show()`, `display` permite explorar los datos con características interactivas como la paginación y la ordenación de columnas.\n",
    "\n",
    "```python\n",
    "display(data)\n",
    "```\n",
    "Este comando muestra el DataFrame `data` en una tabla interactiva, facilitando la exploración de los datos cargados o procesados."
   ]
  },
  {
   "cell_type": "code",
   "execution_count": 0,
   "metadata": {
    "application/vnd.databricks.v1+cell": {
     "cellMetadata": {
      "byteLimit": 2048000,
      "rowLimit": 10000
     },
     "inputWidgets": {},
     "nuid": "8c93e31d-44c7-4e7f-86a7-976f9ed35996",
     "showTitle": false,
     "tableResultSettingsMap": {},
     "title": ""
    }
   },
   "outputs": [
    {
     "output_type": "display_data",
     "data": {
      "text/html": [
       "<style scoped>\n",
       "  .table-result-container {\n",
       "    max-height: 300px;\n",
       "    overflow: auto;\n",
       "  }\n",
       "  table, th, td {\n",
       "    border: 1px solid black;\n",
       "    border-collapse: collapse;\n",
       "  }\n",
       "  th, td {\n",
       "    padding: 5px;\n",
       "  }\n",
       "  th {\n",
       "    text-align: left;\n",
       "  }\n",
       "</style><div class='table-result-container'><table class='table-result'><thead style='background-color: white'><tr><th>2014 rank</th><th>City</th><th>State</th><th>State Code</th><th>2014 Population estimate</th><th>2015 median sales price</th></tr></thead><tbody><tr><td>101</td><td>Birmingham</td><td>Alabama</td><td>AL</td><td>212247</td><td>162.9</td></tr><tr><td>125</td><td>Huntsville</td><td>Alabama</td><td>AL</td><td>188226</td><td>157.7</td></tr><tr><td>122</td><td>Mobile</td><td>Alabama</td><td>AL</td><td>194675</td><td>122.5</td></tr><tr><td>114</td><td>Montgomery</td><td>Alabama</td><td>AL</td><td>200481</td><td>129.0</td></tr><tr><td>6</td><td>Phoenix</td><td>Arizona</td><td>AZ</td><td>1537058</td><td>206.1</td></tr><tr><td>33</td><td>Tucson</td><td>Arizona</td><td>AZ</td><td>527972</td><td>178.1</td></tr><tr><td>119</td><td>Little Rock</td><td>Arkansas</td><td>AR</td><td>197706</td><td>131.8</td></tr><tr><td>56</td><td>Anaheim</td><td>California</td><td>CA</td><td>346997</td><td>685.7</td></tr><tr><td>2</td><td>Los Angeles</td><td>California</td><td>CA</td><td>3928864</td><td>434.7</td></tr><tr><td>59</td><td>Riverside</td><td>California</td><td>CA</td><td>319504</td><td>281.0</td></tr><tr><td>35</td><td>Sacramento</td><td>California</td><td>CA</td><td>485199</td><td>275.8</td></tr><tr><td>8</td><td>San Diego</td><td>California</td><td>CA</td><td>1381069</td><td>510.3</td></tr><tr><td>13</td><td>San Francisco[10]</td><td>California</td><td>CA</td><td>852469</td><td>748.3</td></tr><tr><td>10</td><td>San Jose</td><td>California</td><td>CA</td><td>1015785</td><td>900.0</td></tr><tr><td>278</td><td>Boulder</td><td>Colorado</td><td>CO</td><td>105112</td><td>442.2</td></tr><tr><td>42</td><td>Colorado Springs</td><td>Colorado</td><td>CO</td><td>445830</td><td>220.1</td></tr><tr><td>21</td><td>Denver[12]</td><td>Colorado</td><td>CO</td><td>663862</td><td>338.1</td></tr><tr><td>175</td><td>Bridgeport</td><td>Connecticut</td><td>CT</td><td>147612</td><td>342.7</td></tr><tr><td>218</td><td>Hartford</td><td>Connecticut</td><td>CT</td><td>124705</td><td>202.6</td></tr><tr><td>198</td><td>New Haven</td><td>Connecticut</td><td>CT</td><td>130282</td><td>205.1</td></tr><tr><td>22</td><td>Washington[13]</td><td>District of Columbia</td><td>DC</td><td>658893</td><td>367.8</td></tr><tr><td>144</td><td>Cape Coral</td><td>Florida</td><td>FL</td><td>169854</td><td>208.0</td></tr><tr><td>206</td><td>Gainesville</td><td>Florida</td><td>FL</td><td>128460</td><td>169.9</td></tr><tr><td>12</td><td>Jacksonville[9]</td><td>Florida</td><td>FL</td><td>853382</td><td>182.5</td></tr><tr><td>290</td><td>Lakeland</td><td>Florida</td><td>FL</td><td>102346</td><td>136.0</td></tr><tr><td>44</td><td>Miami</td><td>Florida</td><td>FL</td><td>430332</td><td>269.1</td></tr><tr><td>275</td><td>Palm Bay</td><td>Florida</td><td>FL</td><td>105838</td><td>145.0</td></tr><tr><td>140</td><td>Port St. Lucie</td><td>Florida</td><td>FL</td><td>174110</td><td>172.0</td></tr><tr><td>126</td><td>Tallahassee</td><td>Florida</td><td>FL</td><td>188107</td><td>170.5</td></tr><tr><td>53</td><td>Tampa</td><td>Florida</td><td>FL</td><td>358699</td><td>156.0</td></tr><tr><td>39</td><td>Atlanta</td><td>Georgia</td><td>GA</td><td>456002</td><td>158.0</td></tr><tr><td>55</td><td>Honolulu[2]</td><td>Hawai'i</td><td>HI</td><td>350399</td><td>699.3</td></tr><tr><td>99</td><td>Boise[22]</td><td>Idaho</td><td>ID</td><td>216282</td><td>178.7</td></tr><tr><td>3</td><td>Chicago</td><td>Illinois</td><td>IL</td><td>2722389</td><td>192.5</td></tr><tr><td>236</td><td>Peoria</td><td>Illinois</td><td>IL</td><td>115828</td><td>105.2</td></tr><tr><td>171</td><td>Rockford</td><td>Illinois</td><td>IL</td><td>149123</td><td>78.6</td></tr><tr><td>233</td><td>Springfield</td><td>Illinois</td><td>IL</td><td>116809</td><td>115.2</td></tr><tr><td>77</td><td>Fort Wayne</td><td>Indiana</td><td>IN</td><td>258522</td><td>106.3</td></tr><tr><td>14</td><td>Indianapolis[11]</td><td>Indiana</td><td>IN</td><td>848788</td><td>139.2</td></tr><tr><td>203</td><td>Cedar Rapids</td><td>Iowa</td><td>IA</td><td>129195</td><td>156.9</td></tr><tr><td>289</td><td>Davenport</td><td>Iowa</td><td>IA</td><td>102448</td><td>109.4</td></tr><tr><td>213</td><td>Topeka</td><td>Kansas</td><td>KS</td><td>127215</td><td>105.3</td></tr><tr><td>49</td><td>Wichita</td><td>Kansas</td><td>KS</td><td>388413</td><td>126.0</td></tr><tr><td>61</td><td>Lexington[18]</td><td>Kentucky</td><td>KY</td><td>310797</td><td>141.2</td></tr><tr><td>30</td><td>Louisville[16]</td><td>Kentucky</td><td>KY</td><td>612780</td><td>141.1</td></tr><tr><td>96</td><td>Baton Rouge[21]</td><td>Louisiana</td><td>LA</td><td>228895</td><td>177.2</td></tr><tr><td>117</td><td>Shreveport</td><td>Louisiana</td><td>LA</td><td>198242</td><td>151.6</td></tr><tr><td>26</td><td>Baltimore[15]</td><td>Maryland</td><td>MD</td><td>622793</td><td>223.1</td></tr><tr><td>24</td><td>Boston</td><td>Massachusetts</td><td>MA</td><td>655884</td><td>374.6</td></tr><tr><td>162</td><td>Springfield</td><td>Massachusetts</td><td>MA</td><td>153991</td><td>183.9</td></tr><tr><td>131</td><td>Worcester</td><td>Massachusetts</td><td>MA</td><td>183016</td><td>226.9</td></tr><tr><td>238</td><td>Lansing</td><td>Michigan</td><td>MI</td><td>114620</td><td>114.6</td></tr><tr><td>46</td><td>Minneapolis</td><td>Minnesota</td><td>MN</td><td>407207</td><td>209.4</td></tr><tr><td>143</td><td>Jackson</td><td>Mississippi</td><td>MS</td><td>171155</td><td>154.1</td></tr><tr><td>37</td><td>Kansas City</td><td>Missouri</td><td>MO</td><td>470800</td><td>153.0</td></tr><tr><td>149</td><td>Springfield</td><td>Missouri</td><td>MO</td><td>165378</td><td>116.5</td></tr><tr><td>72</td><td>Lincoln</td><td>Nebraska</td><td>NE</td><td>272996</td><td>150.2</td></tr><tr><td>41</td><td>Omaha</td><td>Nebraska</td><td>NE</td><td>446599</td><td>148.1</td></tr><tr><td>29</td><td>Las Vegas</td><td>Nevada</td><td>NV</td><td>613599</td><td>205.9</td></tr><tr><td>89</td><td>Reno</td><td>Nevada</td><td>NV</td><td>236995</td><td>268.7</td></tr><tr><td>254</td><td>Manchester</td><td>New Hampshire</td><td>NH</td><td>110448</td><td>237.4</td></tr><tr><td>69</td><td>Newark</td><td>New Jersey</td><td>NJ</td><td>280579</td><td>350.8</td></tr><tr><td>32</td><td>Albuquerque</td><td>New Mexico</td><td>NM</td><td>557169</td><td>172.2</td></tr><tr><td>76</td><td>Buffalo</td><td>New York</td><td>NY</td><td>258703</td><td>117.3</td></tr><tr><td>1</td><td>New York[6]</td><td>New York</td><td>NY</td><td>8491079</td><td>388.6</td></tr><tr><td>103</td><td>Rochester</td><td>New York</td><td>NY</td><td>209983</td><td>118.9</td></tr><tr><td>182</td><td>Syracuse</td><td>New York</td><td>NY</td><td>144263</td><td>118.3</td></tr><tr><td>17</td><td>Charlotte</td><td>North Carolina</td><td>NC</td><td>809958</td><td>197.2</td></tr><tr><td>81</td><td>Durham</td><td>North Carolina</td><td>NC</td><td>251893</td><td>196.9</td></tr><tr><td>109</td><td>Fayetteville</td><td>North Carolina</td><td>NC</td><td>203948</td><td>145.0</td></tr><tr><td>67</td><td>Greensboro</td><td>North Carolina</td><td>NC</td><td>282586</td><td>138.3</td></tr><tr><td>43</td><td>Raleigh</td><td>North Carolina</td><td>NC</td><td>439896</td><td>218.9</td></tr><tr><td>241</td><td>Wilmington</td><td>North Carolina</td><td>NC</td><td>113657</td><td>197.5</td></tr><tr><td>87</td><td>Winston�Salem</td><td>North Carolina</td><td>NC</td><td>239269</td><td>138.6</td></tr><tr><td>235</td><td>Fargo</td><td>North Dakota</td><td>ND</td><td>115863</td><td>180.0</td></tr><tr><td>118</td><td>Akron</td><td>Ohio</td><td>OH</td><td>197859</td><td>95.4</td></tr><tr><td>65</td><td>Cincinnati</td><td>Ohio</td><td>OH</td><td>298165</td><td>135.0</td></tr><tr><td>48</td><td>Cleveland</td><td>Ohio</td><td>OH</td><td>389521</td><td>105.9</td></tr><tr><td>15</td><td>Columbus</td><td>Ohio</td><td>OH</td><td>835957</td><td>149.9</td></tr><tr><td>183</td><td>Dayton</td><td>Ohio</td><td>OH</td><td>141003</td><td>107.2</td></tr><tr><td>68</td><td>Toledo</td><td>Ohio</td><td>OH</td><td>281031</td><td>83.8</td></tr><tr><td>47</td><td>Tulsa</td><td>Oklahoma</td><td>OK</td><td>399682</td><td>145.1</td></tr><tr><td>155</td><td>Eugene</td><td>Oregon</td><td>OR</td><td>160561</td><td>211.3</td></tr><tr><td>28</td><td>Portland</td><td>Oregon</td><td>OR</td><td>619360</td><td>289.4</td></tr><tr><td>152</td><td>Salem</td><td>Oregon</td><td>OR</td><td>161637</td><td>193.9</td></tr><tr><td>226</td><td>Allentown</td><td>Pennsylvania</td><td>PA</td><td>119104</td><td>162.7</td></tr><tr><td>5</td><td>Philadelphia[8]</td><td>Pennsylvania</td><td>PA</td><td>1560297</td><td>204.9</td></tr><tr><td>134</td><td>Providence</td><td>Rhode Island</td><td>RI</td><td>179154</td><td>233.3</td></tr><tr><td>147</td><td>Sioux Falls</td><td>South Dakota</td><td>SD</td><td>168586</td><td>159.5</td></tr><tr><td>141</td><td>Chattanooga</td><td>Tennessee</td><td>TN</td><td>173778</td><td>143.6</td></tr><tr><td>129</td><td>Knoxville</td><td>Tennessee</td><td>TN</td><td>184281</td><td>149.2</td></tr><tr><td>23</td><td>Memphis</td><td>Tennessee</td><td>TN</td><td>656861</td><td>132.1</td></tr><tr><td>25</td><td>Nashville[14]</td><td>Tennessee</td><td>TN</td><td>644014</td><td>186.4</td></tr><tr><td>221</td><td>Abilene</td><td>Texas</td><td>TX</td><td>120958</td><td>145.7</td></tr><tr><td>120</td><td>Amarillo</td><td>Texas</td><td>TX</td><td>197254</td><td>144.4</td></tr><tr><td>11</td><td>Austin</td><td>Texas</td><td>TX</td><td>912791</td><td>249.1</td></tr><tr><td>230</td><td>Beaumont</td><td>Texas</td><td>TX</td><td>117585</td><td>133.3</td></tr><tr><td>58</td><td>Corpus Christi</td><td>Texas</td><td>TX</td><td>320434</td><td>172.9</td></tr><tr><td>9</td><td>Dallas</td><td>Texas</td><td>TX</td><td>1281047</td><td>192.5</td></tr><tr><td>19</td><td>El Paso</td><td>Texas</td><td>TX</td><td>679036</td><td>138.4</td></tr><tr><td>4</td><td>Houston[7]</td><td>Texas</td><td>TX</td><td>2239558</td><td>200.3</td></tr><tr><td>7</td><td>San Antonio</td><td>Texas</td><td>TX</td><td>1436697</td><td>184.7</td></tr><tr><td>124</td><td>Salt Lake City</td><td>Utah</td><td>UT</td><td>190884</td><td>243.3</td></tr><tr><td>98</td><td>Richmond[15]</td><td>Virginia</td><td>VA</td><td>217853</td><td>212.5</td></tr><tr><td>40</td><td>Virginia Beach[15]</td><td>Virginia</td><td>VA</td><td>450980</td><td>190.0</td></tr><tr><td>20</td><td>Seattle</td><td>Washington</td><td>WA</td><td>668342</td><td>352.4</td></tr><tr><td>102</td><td>Spokane</td><td>Washington</td><td>WA</td><td>212052</td><td>180.2</td></tr><tr><td>83</td><td>Madison</td><td>Wisconsin</td><td>WI</td><td>245691</td><td>226.2</td></tr><tr><td>31</td><td>Milwaukee</td><td>Wisconsin</td><td>WI</td><td>599642</td><td>195.4</td></tr></tbody></table></div>"
      ]
     },
     "metadata": {
      "application/vnd.databricks.v1+output": {
       "addedWidgets": {},
       "aggData": [],
       "aggError": "",
       "aggOverflow": false,
       "aggSchema": [],
       "aggSeriesLimitReached": false,
       "aggType": "",
       "arguments": {},
       "columnCustomDisplayInfos": {},
       "data": [
        [
         101,
         "Birmingham",
         "Alabama",
         "AL",
         212247,
         162.9
        ],
        [
         125,
         "Huntsville",
         "Alabama",
         "AL",
         188226,
         157.7
        ],
        [
         122,
         "Mobile",
         "Alabama",
         "AL",
         194675,
         122.5
        ],
        [
         114,
         "Montgomery",
         "Alabama",
         "AL",
         200481,
         129.0
        ],
        [
         6,
         "Phoenix",
         "Arizona",
         "AZ",
         1537058,
         206.1
        ],
        [
         33,
         "Tucson",
         "Arizona",
         "AZ",
         527972,
         178.1
        ],
        [
         119,
         "Little Rock",
         "Arkansas",
         "AR",
         197706,
         131.8
        ],
        [
         56,
         "Anaheim",
         "California",
         "CA",
         346997,
         685.7
        ],
        [
         2,
         "Los Angeles",
         "California",
         "CA",
         3928864,
         434.7
        ],
        [
         59,
         "Riverside",
         "California",
         "CA",
         319504,
         281.0
        ],
        [
         35,
         "Sacramento",
         "California",
         "CA",
         485199,
         275.8
        ],
        [
         8,
         "San Diego",
         "California",
         "CA",
         1381069,
         510.3
        ],
        [
         13,
         "San Francisco[10]",
         "California",
         "CA",
         852469,
         748.3
        ],
        [
         10,
         "San Jose",
         "California",
         "CA",
         1015785,
         900.0
        ],
        [
         278,
         "Boulder",
         "Colorado",
         "CO",
         105112,
         442.2
        ],
        [
         42,
         "Colorado Springs",
         "Colorado",
         "CO",
         445830,
         220.1
        ],
        [
         21,
         "Denver[12]",
         "Colorado",
         "CO",
         663862,
         338.1
        ],
        [
         175,
         "Bridgeport",
         "Connecticut",
         "CT",
         147612,
         342.7
        ],
        [
         218,
         "Hartford",
         "Connecticut",
         "CT",
         124705,
         202.6
        ],
        [
         198,
         "New Haven",
         "Connecticut",
         "CT",
         130282,
         205.1
        ],
        [
         22,
         "Washington[13]",
         "District of Columbia",
         "DC",
         658893,
         367.8
        ],
        [
         144,
         "Cape Coral",
         "Florida",
         "FL",
         169854,
         208.0
        ],
        [
         206,
         "Gainesville",
         "Florida",
         "FL",
         128460,
         169.9
        ],
        [
         12,
         "Jacksonville[9]",
         "Florida",
         "FL",
         853382,
         182.5
        ],
        [
         290,
         "Lakeland",
         "Florida",
         "FL",
         102346,
         136.0
        ],
        [
         44,
         "Miami",
         "Florida",
         "FL",
         430332,
         269.1
        ],
        [
         275,
         "Palm Bay",
         "Florida",
         "FL",
         105838,
         145.0
        ],
        [
         140,
         "Port St. Lucie",
         "Florida",
         "FL",
         174110,
         172.0
        ],
        [
         126,
         "Tallahassee",
         "Florida",
         "FL",
         188107,
         170.5
        ],
        [
         53,
         "Tampa",
         "Florida",
         "FL",
         358699,
         156.0
        ],
        [
         39,
         "Atlanta",
         "Georgia",
         "GA",
         456002,
         158.0
        ],
        [
         55,
         "Honolulu[2]",
         "Hawai'i",
         "HI",
         350399,
         699.3
        ],
        [
         99,
         "Boise[22]",
         "Idaho",
         "ID",
         216282,
         178.7
        ],
        [
         3,
         "Chicago",
         "Illinois",
         "IL",
         2722389,
         192.5
        ],
        [
         236,
         "Peoria",
         "Illinois",
         "IL",
         115828,
         105.2
        ],
        [
         171,
         "Rockford",
         "Illinois",
         "IL",
         149123,
         78.6
        ],
        [
         233,
         "Springfield",
         "Illinois",
         "IL",
         116809,
         115.2
        ],
        [
         77,
         "Fort Wayne",
         "Indiana",
         "IN",
         258522,
         106.3
        ],
        [
         14,
         "Indianapolis[11]",
         "Indiana",
         "IN",
         848788,
         139.2
        ],
        [
         203,
         "Cedar Rapids",
         "Iowa",
         "IA",
         129195,
         156.9
        ],
        [
         289,
         "Davenport",
         "Iowa",
         "IA",
         102448,
         109.4
        ],
        [
         213,
         "Topeka",
         "Kansas",
         "KS",
         127215,
         105.3
        ],
        [
         49,
         "Wichita",
         "Kansas",
         "KS",
         388413,
         126.0
        ],
        [
         61,
         "Lexington[18]",
         "Kentucky",
         "KY",
         310797,
         141.2
        ],
        [
         30,
         "Louisville[16]",
         "Kentucky",
         "KY",
         612780,
         141.1
        ],
        [
         96,
         "Baton Rouge[21]",
         "Louisiana",
         "LA",
         228895,
         177.2
        ],
        [
         117,
         "Shreveport",
         "Louisiana",
         "LA",
         198242,
         151.6
        ],
        [
         26,
         "Baltimore[15]",
         "Maryland",
         "MD",
         622793,
         223.1
        ],
        [
         24,
         "Boston",
         "Massachusetts",
         "MA",
         655884,
         374.6
        ],
        [
         162,
         "Springfield",
         "Massachusetts",
         "MA",
         153991,
         183.9
        ],
        [
         131,
         "Worcester",
         "Massachusetts",
         "MA",
         183016,
         226.9
        ],
        [
         238,
         "Lansing",
         "Michigan",
         "MI",
         114620,
         114.6
        ],
        [
         46,
         "Minneapolis",
         "Minnesota",
         "MN",
         407207,
         209.4
        ],
        [
         143,
         "Jackson",
         "Mississippi",
         "MS",
         171155,
         154.1
        ],
        [
         37,
         "Kansas City",
         "Missouri",
         "MO",
         470800,
         153.0
        ],
        [
         149,
         "Springfield",
         "Missouri",
         "MO",
         165378,
         116.5
        ],
        [
         72,
         "Lincoln",
         "Nebraska",
         "NE",
         272996,
         150.2
        ],
        [
         41,
         "Omaha",
         "Nebraska",
         "NE",
         446599,
         148.1
        ],
        [
         29,
         "Las Vegas",
         "Nevada",
         "NV",
         613599,
         205.9
        ],
        [
         89,
         "Reno",
         "Nevada",
         "NV",
         236995,
         268.7
        ],
        [
         254,
         "Manchester",
         "New Hampshire",
         "NH",
         110448,
         237.4
        ],
        [
         69,
         "Newark",
         "New Jersey",
         "NJ",
         280579,
         350.8
        ],
        [
         32,
         "Albuquerque",
         "New Mexico",
         "NM",
         557169,
         172.2
        ],
        [
         76,
         "Buffalo",
         "New York",
         "NY",
         258703,
         117.3
        ],
        [
         1,
         "New York[6]",
         "New York",
         "NY",
         8491079,
         388.6
        ],
        [
         103,
         "Rochester",
         "New York",
         "NY",
         209983,
         118.9
        ],
        [
         182,
         "Syracuse",
         "New York",
         "NY",
         144263,
         118.3
        ],
        [
         17,
         "Charlotte",
         "North Carolina",
         "NC",
         809958,
         197.2
        ],
        [
         81,
         "Durham",
         "North Carolina",
         "NC",
         251893,
         196.9
        ],
        [
         109,
         "Fayetteville",
         "North Carolina",
         "NC",
         203948,
         145.0
        ],
        [
         67,
         "Greensboro",
         "North Carolina",
         "NC",
         282586,
         138.3
        ],
        [
         43,
         "Raleigh",
         "North Carolina",
         "NC",
         439896,
         218.9
        ],
        [
         241,
         "Wilmington",
         "North Carolina",
         "NC",
         113657,
         197.5
        ],
        [
         87,
         "Winston�Salem",
         "North Carolina",
         "NC",
         239269,
         138.6
        ],
        [
         235,
         "Fargo",
         "North Dakota",
         "ND",
         115863,
         180.0
        ],
        [
         118,
         "Akron",
         "Ohio",
         "OH",
         197859,
         95.4
        ],
        [
         65,
         "Cincinnati",
         "Ohio",
         "OH",
         298165,
         135.0
        ],
        [
         48,
         "Cleveland",
         "Ohio",
         "OH",
         389521,
         105.9
        ],
        [
         15,
         "Columbus",
         "Ohio",
         "OH",
         835957,
         149.9
        ],
        [
         183,
         "Dayton",
         "Ohio",
         "OH",
         141003,
         107.2
        ],
        [
         68,
         "Toledo",
         "Ohio",
         "OH",
         281031,
         83.8
        ],
        [
         47,
         "Tulsa",
         "Oklahoma",
         "OK",
         399682,
         145.1
        ],
        [
         155,
         "Eugene",
         "Oregon",
         "OR",
         160561,
         211.3
        ],
        [
         28,
         "Portland",
         "Oregon",
         "OR",
         619360,
         289.4
        ],
        [
         152,
         "Salem",
         "Oregon",
         "OR",
         161637,
         193.9
        ],
        [
         226,
         "Allentown",
         "Pennsylvania",
         "PA",
         119104,
         162.7
        ],
        [
         5,
         "Philadelphia[8]",
         "Pennsylvania",
         "PA",
         1560297,
         204.9
        ],
        [
         134,
         "Providence",
         "Rhode Island",
         "RI",
         179154,
         233.3
        ],
        [
         147,
         "Sioux Falls",
         "South Dakota",
         "SD",
         168586,
         159.5
        ],
        [
         141,
         "Chattanooga",
         "Tennessee",
         "TN",
         173778,
         143.6
        ],
        [
         129,
         "Knoxville",
         "Tennessee",
         "TN",
         184281,
         149.2
        ],
        [
         23,
         "Memphis",
         "Tennessee",
         "TN",
         656861,
         132.1
        ],
        [
         25,
         "Nashville[14]",
         "Tennessee",
         "TN",
         644014,
         186.4
        ],
        [
         221,
         "Abilene",
         "Texas",
         "TX",
         120958,
         145.7
        ],
        [
         120,
         "Amarillo",
         "Texas",
         "TX",
         197254,
         144.4
        ],
        [
         11,
         "Austin",
         "Texas",
         "TX",
         912791,
         249.1
        ],
        [
         230,
         "Beaumont",
         "Texas",
         "TX",
         117585,
         133.3
        ],
        [
         58,
         "Corpus Christi",
         "Texas",
         "TX",
         320434,
         172.9
        ],
        [
         9,
         "Dallas",
         "Texas",
         "TX",
         1281047,
         192.5
        ],
        [
         19,
         "El Paso",
         "Texas",
         "TX",
         679036,
         138.4
        ],
        [
         4,
         "Houston[7]",
         "Texas",
         "TX",
         2239558,
         200.3
        ],
        [
         7,
         "San Antonio",
         "Texas",
         "TX",
         1436697,
         184.7
        ],
        [
         124,
         "Salt Lake City",
         "Utah",
         "UT",
         190884,
         243.3
        ],
        [
         98,
         "Richmond[15]",
         "Virginia",
         "VA",
         217853,
         212.5
        ],
        [
         40,
         "Virginia Beach[15]",
         "Virginia",
         "VA",
         450980,
         190.0
        ],
        [
         20,
         "Seattle",
         "Washington",
         "WA",
         668342,
         352.4
        ],
        [
         102,
         "Spokane",
         "Washington",
         "WA",
         212052,
         180.2
        ],
        [
         83,
         "Madison",
         "Wisconsin",
         "WI",
         245691,
         226.2
        ],
        [
         31,
         "Milwaukee",
         "Wisconsin",
         "WI",
         599642,
         195.4
        ]
       ],
       "datasetInfos": [],
       "dbfsResultPath": null,
       "isJsonSchema": true,
       "metadata": {},
       "overflow": false,
       "plotOptions": {
        "customPlotOptions": {},
        "displayType": "table",
        "pivotAggregation": null,
        "pivotColumns": null,
        "xColumns": null,
        "yColumns": null
       },
       "removedWidgets": [],
       "schema": [
        {
         "metadata": "{}",
         "name": "2014 rank",
         "type": "\"integer\""
        },
        {
         "metadata": "{}",
         "name": "City",
         "type": "\"string\""
        },
        {
         "metadata": "{}",
         "name": "State",
         "type": "\"string\""
        },
        {
         "metadata": "{}",
         "name": "State Code",
         "type": "\"string\""
        },
        {
         "metadata": "{}",
         "name": "2014 Population estimate",
         "type": "\"integer\""
        },
        {
         "metadata": "{}",
         "name": "2015 median sales price",
         "type": "\"double\""
        }
       ],
       "type": "table"
      }
     },
     "output_type": "display_data"
    }
   ],
   "source": [
    "display(data)"
   ]
  },
  {
   "cell_type": "markdown",
   "metadata": {
    "application/vnd.databricks.v1+cell": {
     "cellMetadata": {},
     "inputWidgets": {},
     "nuid": "f0ac53d1-e35d-40d4-b8fa-dcfc6dd56dce",
     "showTitle": false,
     "tableResultSettingsMap": {},
     "title": ""
    }
   },
   "source": [
    "### Crear una Vista Temporal con `createOrReplaceTempView`\n",
    "\n",
    "El método `createOrReplaceTempView` crea o reemplaza una vista temporal en Spark, lo que permite ejecutar consultas SQL sobre un DataFrame. Esta vista es válida solo durante la sesión actual, facilitando el trabajo con SQL directamente sobre los datos cargados o procesados en un DataFrame."
   ]
  },
  {
   "cell_type": "code",
   "execution_count": 0,
   "metadata": {
    "application/vnd.databricks.v1+cell": {
     "cellMetadata": {
      "byteLimit": 2048000,
      "rowLimit": 10000
     },
     "inputWidgets": {},
     "nuid": "20a122ec-eadc-48ca-a0cd-786f37b51670",
     "showTitle": false,
     "tableResultSettingsMap": {},
     "title": ""
    }
   },
   "outputs": [],
   "source": [
    "data.createOrReplaceTempView(\"data_geo\")"
   ]
  },
  {
   "cell_type": "markdown",
   "metadata": {
    "application/vnd.databricks.v1+cell": {
     "cellMetadata": {},
     "inputWidgets": {},
     "nuid": "244a6e2e-233d-48e4-b8df-fdb9d52e3431",
     "showTitle": false,
     "tableResultSettingsMap": {},
     "title": ""
    }
   },
   "source": [
    "## Consulta SQL"
   ]
  },
  {
   "cell_type": "markdown",
   "metadata": {
    "application/vnd.databricks.v1+cell": {
     "cellMetadata": {},
     "inputWidgets": {},
     "nuid": "9c1251c1-eb10-47eb-ac9b-8fd01d403b2f",
     "showTitle": false,
     "tableResultSettingsMap": {},
     "title": ""
    }
   },
   "source": [
    "### Consulta SQL: Obtener Precio Medio de Venta en 2015 por Estado\n",
    "\n",
    "Esta consulta SQL obtiene el **precio medio de venta en 2015** para cada estado. Los resultados devuelven el código del estado junto con el precio de venta medio correspondiente al año 2015.\n",
    "\n",
    "1. **Selección de Columnas**:\n",
    "   - **`State Code`**: El código del estado.\n",
    "   - **`2015 median sales price`**: El precio de venta medio en 2015 para cada estado.\n",
    "\n",
    "Esta consulta es útil para obtener una visión general de los precios de venta medios en 2015 para cada estado, lo cual puede ser útil para análisis de tendencias en el mercado inmobiliario a nivel estatal."
   ]
  },
  {
   "cell_type": "code",
   "execution_count": 0,
   "metadata": {
    "application/vnd.databricks.v1+cell": {
     "cellMetadata": {
      "byteLimit": 2048000,
      "implicitDf": true,
      "rowLimit": 10000
     },
     "inputWidgets": {},
     "nuid": "d1fb5657-d171-4161-8441-53803900bbae",
     "showTitle": false,
     "tableResultSettingsMap": {},
     "title": ""
    }
   },
   "outputs": [
    {
     "output_type": "display_data",
     "data": {
      "text/html": [
       "<style scoped>\n",
       "  .table-result-container {\n",
       "    max-height: 300px;\n",
       "    overflow: auto;\n",
       "  }\n",
       "  table, th, td {\n",
       "    border: 1px solid black;\n",
       "    border-collapse: collapse;\n",
       "  }\n",
       "  th, td {\n",
       "    padding: 5px;\n",
       "  }\n",
       "  th {\n",
       "    text-align: left;\n",
       "  }\n",
       "</style><div class='table-result-container'><table class='table-result'><thead style='background-color: white'><tr><th>State Code</th><th>2015 median sales price</th></tr></thead><tbody><tr><td>AL</td><td>162.9</td></tr><tr><td>AL</td><td>157.7</td></tr><tr><td>AL</td><td>122.5</td></tr><tr><td>AL</td><td>129.0</td></tr><tr><td>AZ</td><td>206.1</td></tr><tr><td>AZ</td><td>178.1</td></tr><tr><td>AR</td><td>131.8</td></tr><tr><td>CA</td><td>685.7</td></tr><tr><td>CA</td><td>434.7</td></tr><tr><td>CA</td><td>281.0</td></tr><tr><td>CA</td><td>275.8</td></tr><tr><td>CA</td><td>510.3</td></tr><tr><td>CA</td><td>748.3</td></tr><tr><td>CA</td><td>900.0</td></tr><tr><td>CO</td><td>442.2</td></tr><tr><td>CO</td><td>220.1</td></tr><tr><td>CO</td><td>338.1</td></tr><tr><td>CT</td><td>342.7</td></tr><tr><td>CT</td><td>202.6</td></tr><tr><td>CT</td><td>205.1</td></tr><tr><td>DC</td><td>367.8</td></tr><tr><td>FL</td><td>208.0</td></tr><tr><td>FL</td><td>169.9</td></tr><tr><td>FL</td><td>182.5</td></tr><tr><td>FL</td><td>136.0</td></tr><tr><td>FL</td><td>269.1</td></tr><tr><td>FL</td><td>145.0</td></tr><tr><td>FL</td><td>172.0</td></tr><tr><td>FL</td><td>170.5</td></tr><tr><td>FL</td><td>156.0</td></tr><tr><td>GA</td><td>158.0</td></tr><tr><td>HI</td><td>699.3</td></tr><tr><td>ID</td><td>178.7</td></tr><tr><td>IL</td><td>192.5</td></tr><tr><td>IL</td><td>105.2</td></tr><tr><td>IL</td><td>78.6</td></tr><tr><td>IL</td><td>115.2</td></tr><tr><td>IN</td><td>106.3</td></tr><tr><td>IN</td><td>139.2</td></tr><tr><td>IA</td><td>156.9</td></tr><tr><td>IA</td><td>109.4</td></tr><tr><td>KS</td><td>105.3</td></tr><tr><td>KS</td><td>126.0</td></tr><tr><td>KY</td><td>141.2</td></tr><tr><td>KY</td><td>141.1</td></tr><tr><td>LA</td><td>177.2</td></tr><tr><td>LA</td><td>151.6</td></tr><tr><td>MD</td><td>223.1</td></tr><tr><td>MA</td><td>374.6</td></tr><tr><td>MA</td><td>183.9</td></tr><tr><td>MA</td><td>226.9</td></tr><tr><td>MI</td><td>114.6</td></tr><tr><td>MN</td><td>209.4</td></tr><tr><td>MS</td><td>154.1</td></tr><tr><td>MO</td><td>153.0</td></tr><tr><td>MO</td><td>116.5</td></tr><tr><td>NE</td><td>150.2</td></tr><tr><td>NE</td><td>148.1</td></tr><tr><td>NV</td><td>205.9</td></tr><tr><td>NV</td><td>268.7</td></tr><tr><td>NH</td><td>237.4</td></tr><tr><td>NJ</td><td>350.8</td></tr><tr><td>NM</td><td>172.2</td></tr><tr><td>NY</td><td>117.3</td></tr><tr><td>NY</td><td>388.6</td></tr><tr><td>NY</td><td>118.9</td></tr><tr><td>NY</td><td>118.3</td></tr><tr><td>NC</td><td>197.2</td></tr><tr><td>NC</td><td>196.9</td></tr><tr><td>NC</td><td>145.0</td></tr><tr><td>NC</td><td>138.3</td></tr><tr><td>NC</td><td>218.9</td></tr><tr><td>NC</td><td>197.5</td></tr><tr><td>NC</td><td>138.6</td></tr><tr><td>ND</td><td>180.0</td></tr><tr><td>OH</td><td>95.4</td></tr><tr><td>OH</td><td>135.0</td></tr><tr><td>OH</td><td>105.9</td></tr><tr><td>OH</td><td>149.9</td></tr><tr><td>OH</td><td>107.2</td></tr><tr><td>OH</td><td>83.8</td></tr><tr><td>OK</td><td>145.1</td></tr><tr><td>OR</td><td>211.3</td></tr><tr><td>OR</td><td>289.4</td></tr><tr><td>OR</td><td>193.9</td></tr><tr><td>PA</td><td>162.7</td></tr><tr><td>PA</td><td>204.9</td></tr><tr><td>RI</td><td>233.3</td></tr><tr><td>SD</td><td>159.5</td></tr><tr><td>TN</td><td>143.6</td></tr><tr><td>TN</td><td>149.2</td></tr><tr><td>TN</td><td>132.1</td></tr><tr><td>TN</td><td>186.4</td></tr><tr><td>TX</td><td>145.7</td></tr><tr><td>TX</td><td>144.4</td></tr><tr><td>TX</td><td>249.1</td></tr><tr><td>TX</td><td>133.3</td></tr><tr><td>TX</td><td>172.9</td></tr><tr><td>TX</td><td>192.5</td></tr><tr><td>TX</td><td>138.4</td></tr><tr><td>TX</td><td>200.3</td></tr><tr><td>TX</td><td>184.7</td></tr><tr><td>UT</td><td>243.3</td></tr><tr><td>VA</td><td>212.5</td></tr><tr><td>VA</td><td>190.0</td></tr><tr><td>WA</td><td>352.4</td></tr><tr><td>WA</td><td>180.2</td></tr><tr><td>WI</td><td>226.2</td></tr><tr><td>WI</td><td>195.4</td></tr></tbody></table></div>"
      ]
     },
     "metadata": {
      "application/vnd.databricks.v1+output": {
       "addedWidgets": {},
       "aggData": [],
       "aggError": "",
       "aggOverflow": false,
       "aggSchema": [],
       "aggSeriesLimitReached": false,
       "aggType": "",
       "arguments": {},
       "columnCustomDisplayInfos": {},
       "data": [
        [
         "AL",
         162.9
        ],
        [
         "AL",
         157.7
        ],
        [
         "AL",
         122.5
        ],
        [
         "AL",
         129.0
        ],
        [
         "AZ",
         206.1
        ],
        [
         "AZ",
         178.1
        ],
        [
         "AR",
         131.8
        ],
        [
         "CA",
         685.7
        ],
        [
         "CA",
         434.7
        ],
        [
         "CA",
         281.0
        ],
        [
         "CA",
         275.8
        ],
        [
         "CA",
         510.3
        ],
        [
         "CA",
         748.3
        ],
        [
         "CA",
         900.0
        ],
        [
         "CO",
         442.2
        ],
        [
         "CO",
         220.1
        ],
        [
         "CO",
         338.1
        ],
        [
         "CT",
         342.7
        ],
        [
         "CT",
         202.6
        ],
        [
         "CT",
         205.1
        ],
        [
         "DC",
         367.8
        ],
        [
         "FL",
         208.0
        ],
        [
         "FL",
         169.9
        ],
        [
         "FL",
         182.5
        ],
        [
         "FL",
         136.0
        ],
        [
         "FL",
         269.1
        ],
        [
         "FL",
         145.0
        ],
        [
         "FL",
         172.0
        ],
        [
         "FL",
         170.5
        ],
        [
         "FL",
         156.0
        ],
        [
         "GA",
         158.0
        ],
        [
         "HI",
         699.3
        ],
        [
         "ID",
         178.7
        ],
        [
         "IL",
         192.5
        ],
        [
         "IL",
         105.2
        ],
        [
         "IL",
         78.6
        ],
        [
         "IL",
         115.2
        ],
        [
         "IN",
         106.3
        ],
        [
         "IN",
         139.2
        ],
        [
         "IA",
         156.9
        ],
        [
         "IA",
         109.4
        ],
        [
         "KS",
         105.3
        ],
        [
         "KS",
         126.0
        ],
        [
         "KY",
         141.2
        ],
        [
         "KY",
         141.1
        ],
        [
         "LA",
         177.2
        ],
        [
         "LA",
         151.6
        ],
        [
         "MD",
         223.1
        ],
        [
         "MA",
         374.6
        ],
        [
         "MA",
         183.9
        ],
        [
         "MA",
         226.9
        ],
        [
         "MI",
         114.6
        ],
        [
         "MN",
         209.4
        ],
        [
         "MS",
         154.1
        ],
        [
         "MO",
         153.0
        ],
        [
         "MO",
         116.5
        ],
        [
         "NE",
         150.2
        ],
        [
         "NE",
         148.1
        ],
        [
         "NV",
         205.9
        ],
        [
         "NV",
         268.7
        ],
        [
         "NH",
         237.4
        ],
        [
         "NJ",
         350.8
        ],
        [
         "NM",
         172.2
        ],
        [
         "NY",
         117.3
        ],
        [
         "NY",
         388.6
        ],
        [
         "NY",
         118.9
        ],
        [
         "NY",
         118.3
        ],
        [
         "NC",
         197.2
        ],
        [
         "NC",
         196.9
        ],
        [
         "NC",
         145.0
        ],
        [
         "NC",
         138.3
        ],
        [
         "NC",
         218.9
        ],
        [
         "NC",
         197.5
        ],
        [
         "NC",
         138.6
        ],
        [
         "ND",
         180.0
        ],
        [
         "OH",
         95.4
        ],
        [
         "OH",
         135.0
        ],
        [
         "OH",
         105.9
        ],
        [
         "OH",
         149.9
        ],
        [
         "OH",
         107.2
        ],
        [
         "OH",
         83.8
        ],
        [
         "OK",
         145.1
        ],
        [
         "OR",
         211.3
        ],
        [
         "OR",
         289.4
        ],
        [
         "OR",
         193.9
        ],
        [
         "PA",
         162.7
        ],
        [
         "PA",
         204.9
        ],
        [
         "RI",
         233.3
        ],
        [
         "SD",
         159.5
        ],
        [
         "TN",
         143.6
        ],
        [
         "TN",
         149.2
        ],
        [
         "TN",
         132.1
        ],
        [
         "TN",
         186.4
        ],
        [
         "TX",
         145.7
        ],
        [
         "TX",
         144.4
        ],
        [
         "TX",
         249.1
        ],
        [
         "TX",
         133.3
        ],
        [
         "TX",
         172.9
        ],
        [
         "TX",
         192.5
        ],
        [
         "TX",
         138.4
        ],
        [
         "TX",
         200.3
        ],
        [
         "TX",
         184.7
        ],
        [
         "UT",
         243.3
        ],
        [
         "VA",
         212.5
        ],
        [
         "VA",
         190.0
        ],
        [
         "WA",
         352.4
        ],
        [
         "WA",
         180.2
        ],
        [
         "WI",
         226.2
        ],
        [
         "WI",
         195.4
        ]
       ],
       "datasetInfos": [],
       "dbfsResultPath": null,
       "isJsonSchema": true,
       "metadata": {},
       "overflow": false,
       "plotOptions": {
        "customPlotOptions": {},
        "displayType": "table",
        "pivotAggregation": null,
        "pivotColumns": null,
        "xColumns": null,
        "yColumns": null
       },
       "removedWidgets": [],
       "schema": [
        {
         "metadata": "{}",
         "name": "State Code",
         "type": "\"string\""
        },
        {
         "metadata": "{}",
         "name": "2015 median sales price",
         "type": "\"double\""
        }
       ],
       "type": "table"
      }
     },
     "output_type": "display_data"
    }
   ],
   "source": [
    "%sql\n",
    "select `State Code`, `2015 median sales price` \n",
    "from data_geo"
   ]
  },
  {
   "cell_type": "markdown",
   "metadata": {
    "application/vnd.databricks.v1+cell": {
     "cellMetadata": {},
     "inputWidgets": {},
     "nuid": "ac6c6074-f814-4669-90ee-701f3527d36c",
     "showTitle": false,
     "tableResultSettingsMap": {},
     "title": ""
    }
   },
   "source": [
    "### Consulta SQL: Obtener las 10 Principales Ciudades por Precio de Venta Medio en 2015 y Estimación de Población de 2014\n",
    "\n",
    "Esta consulta SQL obtiene las **10 ciudades principales** con los precios de venta medianos más altos en 2015 y la estimación de población de 2014 (ajustada en miles). Los resultados se ordenan por el precio de venta en 2015 en orden descendente, permitiendo identificar las ciudades con los precios más altos.\n",
    "\n",
    "1. **Selección de Columnas**:\n",
    "   - **`City`**: El nombre de la ciudad.\n",
    "   - **`2014 Population estimate/1000 as '2014 Population Estimate (1000s)'`**: La estimación de la población de 2014, convertida a miles para simplificar la visualización.\n",
    "   - **`2015 median sales price as '2015 Median Sales Price (1000s)'`**: El precio de venta medio de 2015, también ajustado en miles para facilitar el análisis.\n",
    "\n",
    "2. **Ordenación y Limitación**:\n",
    "   - Los resultados se ordenan en orden **descendente** según el precio medio de venta de 2015, y se limita a los **10 primeros** registros.\n",
    "\n",
    "Esta consulta es útil para identificar las ciudades con los precios más altos en 2015, junto con su población estimada en miles, lo que facilita la comparación entre las ciudades más caras."
   ]
  },
  {
   "cell_type": "code",
   "execution_count": 0,
   "metadata": {
    "application/vnd.databricks.v1+cell": {
     "cellMetadata": {
      "byteLimit": 2048000,
      "implicitDf": true,
      "rowLimit": 10000
     },
     "inputWidgets": {},
     "nuid": "aab0b7dc-20b7-4f24-b6dd-c0159309881a",
     "showTitle": false,
     "tableResultSettingsMap": {},
     "title": ""
    }
   },
   "outputs": [
    {
     "output_type": "display_data",
     "data": {
      "text/html": [
       "<style scoped>\n",
       "  .table-result-container {\n",
       "    max-height: 300px;\n",
       "    overflow: auto;\n",
       "  }\n",
       "  table, th, td {\n",
       "    border: 1px solid black;\n",
       "    border-collapse: collapse;\n",
       "  }\n",
       "  th, td {\n",
       "    padding: 5px;\n",
       "  }\n",
       "  th {\n",
       "    text-align: left;\n",
       "  }\n",
       "</style><div class='table-result-container'><table class='table-result'><thead style='background-color: white'><tr><th>City</th><th>2014 Population Estimate (1000s)</th><th>2015 Median Sales Price (1000s)</th></tr></thead><tbody><tr><td>San Jose</td><td>1015.785</td><td>900.0</td></tr><tr><td>San Francisco[10]</td><td>852.469</td><td>748.3</td></tr><tr><td>Honolulu[2]</td><td>350.399</td><td>699.3</td></tr><tr><td>Anaheim</td><td>346.997</td><td>685.7</td></tr><tr><td>San Diego</td><td>1381.069</td><td>510.3</td></tr><tr><td>Boulder</td><td>105.112</td><td>442.2</td></tr><tr><td>Los Angeles</td><td>3928.864</td><td>434.7</td></tr><tr><td>New York[6]</td><td>8491.079</td><td>388.6</td></tr><tr><td>Boston</td><td>655.884</td><td>374.6</td></tr><tr><td>Washington[13]</td><td>658.893</td><td>367.8</td></tr></tbody></table></div>"
      ]
     },
     "metadata": {
      "application/vnd.databricks.v1+output": {
       "addedWidgets": {},
       "aggData": [],
       "aggError": "",
       "aggOverflow": false,
       "aggSchema": [],
       "aggSeriesLimitReached": false,
       "aggType": "",
       "arguments": {},
       "columnCustomDisplayInfos": {},
       "data": [
        [
         "San Jose",
         1015.785,
         900.0
        ],
        [
         "San Francisco[10]",
         852.469,
         748.3
        ],
        [
         "Honolulu[2]",
         350.399,
         699.3
        ],
        [
         "Anaheim",
         346.997,
         685.7
        ],
        [
         "San Diego",
         1381.069,
         510.3
        ],
        [
         "Boulder",
         105.112,
         442.2
        ],
        [
         "Los Angeles",
         3928.864,
         434.7
        ],
        [
         "New York[6]",
         8491.079,
         388.6
        ],
        [
         "Boston",
         655.884,
         374.6
        ],
        [
         "Washington[13]",
         658.893,
         367.8
        ]
       ],
       "datasetInfos": [],
       "dbfsResultPath": null,
       "isJsonSchema": true,
       "metadata": {},
       "overflow": false,
       "plotOptions": {
        "customPlotOptions": {},
        "displayType": "table",
        "pivotAggregation": null,
        "pivotColumns": null,
        "xColumns": null,
        "yColumns": null
       },
       "removedWidgets": [],
       "schema": [
        {
         "metadata": "{}",
         "name": "City",
         "type": "\"string\""
        },
        {
         "metadata": "{}",
         "name": "2014 Population Estimate (1000s)",
         "type": "\"double\""
        },
        {
         "metadata": "{}",
         "name": "2015 Median Sales Price (1000s)",
         "type": "\"double\""
        }
       ],
       "type": "table"
      }
     },
     "output_type": "display_data"
    }
   ],
   "source": [
    "%sql\n",
    "select City, `2014 Population estimate`/1000 as `2014 Population Estimate (1000s)`, `2015 median sales price` as `2015 Median Sales Price (1000s)` \n",
    "from data_geo \n",
    "order by `2015 median sales price` desc limit 10;"
   ]
  },
  {
   "cell_type": "markdown",
   "metadata": {
    "application/vnd.databricks.v1+cell": {
     "cellMetadata": {},
     "inputWidgets": {},
     "nuid": "9d6e3821-e104-43e5-8b2a-1146d0b13346",
     "showTitle": false,
     "tableResultSettingsMap": {},
     "title": ""
    }
   },
   "source": [
    "### Consulta SQL: Obtener Estimación de Población 2014 por Ciudad en el Estado de Washington (WA)\n",
    "\n",
    "Esta consulta SQL obtiene la **estimación de población de 2014** para cada ciudad en el estado de Washington (`State Code = 'WA'`). La consulta filtra los datos específicamente para el estado de Washington y devuelve las ciudades junto con su población estimada en 2014.\n",
    "\n",
    "1. **Selección de Columnas**:\n",
    "   - **`City`**: El nombre de la ciudad.\n",
    "   - **`2014 Population estimate`**: La estimación de la población para cada ciudad en el año 2014.\n",
    "\n",
    "2. **Filtrado por Estado**:\n",
    "   - Se aplica un filtro para obtener solo las ciudades del estado de Washington, usando la cláusula `WHERE` para seleccionar donde el código del estado es `'WA'` 'Washington'."
   ]
  },
  {
   "cell_type": "code",
   "execution_count": 0,
   "metadata": {
    "application/vnd.databricks.v1+cell": {
     "cellMetadata": {
      "byteLimit": 2048000,
      "implicitDf": true,
      "rowLimit": 10000
     },
     "inputWidgets": {},
     "nuid": "3a2739ec-b234-4157-bc45-eaf8c3344c2a",
     "showTitle": false,
     "tableResultSettingsMap": {},
     "title": ""
    }
   },
   "outputs": [
    {
     "output_type": "display_data",
     "data": {
      "text/html": [
       "<style scoped>\n",
       "  .table-result-container {\n",
       "    max-height: 300px;\n",
       "    overflow: auto;\n",
       "  }\n",
       "  table, th, td {\n",
       "    border: 1px solid black;\n",
       "    border-collapse: collapse;\n",
       "  }\n",
       "  th, td {\n",
       "    padding: 5px;\n",
       "  }\n",
       "  th {\n",
       "    text-align: left;\n",
       "  }\n",
       "</style><div class='table-result-container'><table class='table-result'><thead style='background-color: white'><tr><th>City</th><th>2014 Population estimate</th></tr></thead><tbody><tr><td>Seattle</td><td>668342</td></tr><tr><td>Spokane</td><td>212052</td></tr></tbody></table></div>"
      ]
     },
     "metadata": {
      "application/vnd.databricks.v1+output": {
       "addedWidgets": {},
       "aggData": [],
       "aggError": "",
       "aggOverflow": false,
       "aggSchema": [],
       "aggSeriesLimitReached": false,
       "aggType": "",
       "arguments": {},
       "columnCustomDisplayInfos": {},
       "data": [
        [
         "Seattle",
         668342
        ],
        [
         "Spokane",
         212052
        ]
       ],
       "datasetInfos": [],
       "dbfsResultPath": null,
       "isJsonSchema": true,
       "metadata": {},
       "overflow": false,
       "plotOptions": {
        "customPlotOptions": {},
        "displayType": "table",
        "pivotAggregation": null,
        "pivotColumns": null,
        "xColumns": null,
        "yColumns": null
       },
       "removedWidgets": [],
       "schema": [
        {
         "metadata": "{}",
         "name": "City",
         "type": "\"string\""
        },
        {
         "metadata": "{}",
         "name": "2014 Population estimate",
         "type": "\"integer\""
        }
       ],
       "type": "table"
      }
     },
     "output_type": "display_data"
    }
   ],
   "source": [
    "%sql\n",
    "select City, `2014 Population estimate` \n",
    "from data_geo \n",
    "where `State Code` = 'WA';"
   ]
  },
  {
   "cell_type": "markdown",
   "metadata": {
    "application/vnd.databricks.v1+cell": {
     "cellMetadata": {},
     "inputWidgets": {},
     "nuid": "32134e68-f200-4228-b958-bc696d9db3de",
     "showTitle": false,
     "tableResultSettingsMap": {},
     "title": ""
    }
   },
   "source": [
    "### Consulta SQL: Precios de Venta Medios por Estado en 2015 para Boxplot\n",
    "\n",
    "Esta consulta SQL obtiene el **precio de venta medio en 2015** para cada estado, ordenando los resultados de mayor a menor. El objetivo de esta consulta es preparar los datos para la creación de un **boxplot**, que es útil para visualizar la distribución de los precios de venta en diferentes estados, así como identificar posibles valores atípicos.\n",
    "\n",
    "1. **Selección de Columnas**:\n",
    "   - **`State Code`**: El código del estado.\n",
    "   - **`2015 median sales price`**: El precio de venta medio en 2015, que será utilizado para la creación del boxplot.\n",
    "\n",
    "2. **Ordenación**:\n",
    "   Los resultados se ordenan en orden **descendente** según el precio de venta medio. Este orden no afecta el boxplot directamente, pero facilita la visualización previa de los datos.\n"
   ]
  },
  {
   "cell_type": "code",
   "execution_count": 0,
   "metadata": {
    "application/vnd.databricks.v1+cell": {
     "cellMetadata": {
      "byteLimit": 2048000,
      "implicitDf": true,
      "rowLimit": 10000
     },
     "inputWidgets": {},
     "nuid": "46640a5c-a155-4727-b450-cca04981e4af",
     "showTitle": false,
     "tableResultSettingsMap": {},
     "title": ""
    }
   },
   "outputs": [
    {
     "output_type": "display_data",
     "data": {
      "text/html": [
       "<style scoped>\n",
       "  .table-result-container {\n",
       "    max-height: 300px;\n",
       "    overflow: auto;\n",
       "  }\n",
       "  table, th, td {\n",
       "    border: 1px solid black;\n",
       "    border-collapse: collapse;\n",
       "  }\n",
       "  th, td {\n",
       "    padding: 5px;\n",
       "  }\n",
       "  th {\n",
       "    text-align: left;\n",
       "  }\n",
       "</style><div class='table-result-container'><table class='table-result'><thead style='background-color: white'><tr><th>State Code</th><th>2015 median sales price</th></tr></thead><tbody><tr><td>CA</td><td>900.0</td></tr><tr><td>CA</td><td>748.3</td></tr><tr><td>HI</td><td>699.3</td></tr><tr><td>CA</td><td>685.7</td></tr><tr><td>CA</td><td>510.3</td></tr><tr><td>CO</td><td>442.2</td></tr><tr><td>CA</td><td>434.7</td></tr><tr><td>NY</td><td>388.6</td></tr><tr><td>MA</td><td>374.6</td></tr><tr><td>DC</td><td>367.8</td></tr><tr><td>WA</td><td>352.4</td></tr><tr><td>NJ</td><td>350.8</td></tr><tr><td>CT</td><td>342.7</td></tr><tr><td>CO</td><td>338.1</td></tr><tr><td>OR</td><td>289.4</td></tr><tr><td>CA</td><td>281.0</td></tr><tr><td>CA</td><td>275.8</td></tr><tr><td>FL</td><td>269.1</td></tr><tr><td>NV</td><td>268.7</td></tr><tr><td>TX</td><td>249.1</td></tr><tr><td>UT</td><td>243.3</td></tr><tr><td>NH</td><td>237.4</td></tr><tr><td>RI</td><td>233.3</td></tr><tr><td>MA</td><td>226.9</td></tr><tr><td>WI</td><td>226.2</td></tr><tr><td>MD</td><td>223.1</td></tr><tr><td>CO</td><td>220.1</td></tr><tr><td>NC</td><td>218.9</td></tr><tr><td>VA</td><td>212.5</td></tr><tr><td>OR</td><td>211.3</td></tr><tr><td>MN</td><td>209.4</td></tr><tr><td>FL</td><td>208.0</td></tr><tr><td>AZ</td><td>206.1</td></tr><tr><td>NV</td><td>205.9</td></tr><tr><td>CT</td><td>205.1</td></tr><tr><td>PA</td><td>204.9</td></tr><tr><td>CT</td><td>202.6</td></tr><tr><td>TX</td><td>200.3</td></tr><tr><td>NC</td><td>197.5</td></tr><tr><td>NC</td><td>197.2</td></tr><tr><td>NC</td><td>196.9</td></tr><tr><td>WI</td><td>195.4</td></tr><tr><td>OR</td><td>193.9</td></tr><tr><td>IL</td><td>192.5</td></tr><tr><td>TX</td><td>192.5</td></tr><tr><td>VA</td><td>190.0</td></tr><tr><td>TN</td><td>186.4</td></tr><tr><td>TX</td><td>184.7</td></tr><tr><td>MA</td><td>183.9</td></tr><tr><td>FL</td><td>182.5</td></tr><tr><td>WA</td><td>180.2</td></tr><tr><td>ND</td><td>180.0</td></tr><tr><td>ID</td><td>178.7</td></tr><tr><td>AZ</td><td>178.1</td></tr><tr><td>LA</td><td>177.2</td></tr><tr><td>TX</td><td>172.9</td></tr><tr><td>NM</td><td>172.2</td></tr><tr><td>FL</td><td>172.0</td></tr><tr><td>FL</td><td>170.5</td></tr><tr><td>FL</td><td>169.9</td></tr><tr><td>AL</td><td>162.9</td></tr><tr><td>PA</td><td>162.7</td></tr><tr><td>SD</td><td>159.5</td></tr><tr><td>GA</td><td>158.0</td></tr><tr><td>AL</td><td>157.7</td></tr><tr><td>IA</td><td>156.9</td></tr><tr><td>FL</td><td>156.0</td></tr><tr><td>MS</td><td>154.1</td></tr><tr><td>MO</td><td>153.0</td></tr><tr><td>LA</td><td>151.6</td></tr><tr><td>NE</td><td>150.2</td></tr><tr><td>OH</td><td>149.9</td></tr><tr><td>TN</td><td>149.2</td></tr><tr><td>NE</td><td>148.1</td></tr><tr><td>TX</td><td>145.7</td></tr><tr><td>OK</td><td>145.1</td></tr><tr><td>FL</td><td>145.0</td></tr><tr><td>NC</td><td>145.0</td></tr><tr><td>TX</td><td>144.4</td></tr><tr><td>TN</td><td>143.6</td></tr><tr><td>KY</td><td>141.2</td></tr><tr><td>KY</td><td>141.1</td></tr><tr><td>IN</td><td>139.2</td></tr><tr><td>NC</td><td>138.6</td></tr><tr><td>TX</td><td>138.4</td></tr><tr><td>NC</td><td>138.3</td></tr><tr><td>FL</td><td>136.0</td></tr><tr><td>OH</td><td>135.0</td></tr><tr><td>TX</td><td>133.3</td></tr><tr><td>TN</td><td>132.1</td></tr><tr><td>AR</td><td>131.8</td></tr><tr><td>AL</td><td>129.0</td></tr><tr><td>KS</td><td>126.0</td></tr><tr><td>AL</td><td>122.5</td></tr><tr><td>NY</td><td>118.9</td></tr><tr><td>NY</td><td>118.3</td></tr><tr><td>NY</td><td>117.3</td></tr><tr><td>MO</td><td>116.5</td></tr><tr><td>IL</td><td>115.2</td></tr><tr><td>MI</td><td>114.6</td></tr><tr><td>IA</td><td>109.4</td></tr><tr><td>OH</td><td>107.2</td></tr><tr><td>IN</td><td>106.3</td></tr><tr><td>OH</td><td>105.9</td></tr><tr><td>KS</td><td>105.3</td></tr><tr><td>IL</td><td>105.2</td></tr><tr><td>OH</td><td>95.4</td></tr><tr><td>OH</td><td>83.8</td></tr><tr><td>IL</td><td>78.6</td></tr></tbody></table></div>"
      ]
     },
     "metadata": {
      "application/vnd.databricks.v1+output": {
       "addedWidgets": {},
       "aggData": [],
       "aggError": "",
       "aggOverflow": false,
       "aggSchema": [],
       "aggSeriesLimitReached": false,
       "aggType": "",
       "arguments": {},
       "columnCustomDisplayInfos": {},
       "data": [
        [
         "CA",
         900.0
        ],
        [
         "CA",
         748.3
        ],
        [
         "HI",
         699.3
        ],
        [
         "CA",
         685.7
        ],
        [
         "CA",
         510.3
        ],
        [
         "CO",
         442.2
        ],
        [
         "CA",
         434.7
        ],
        [
         "NY",
         388.6
        ],
        [
         "MA",
         374.6
        ],
        [
         "DC",
         367.8
        ],
        [
         "WA",
         352.4
        ],
        [
         "NJ",
         350.8
        ],
        [
         "CT",
         342.7
        ],
        [
         "CO",
         338.1
        ],
        [
         "OR",
         289.4
        ],
        [
         "CA",
         281.0
        ],
        [
         "CA",
         275.8
        ],
        [
         "FL",
         269.1
        ],
        [
         "NV",
         268.7
        ],
        [
         "TX",
         249.1
        ],
        [
         "UT",
         243.3
        ],
        [
         "NH",
         237.4
        ],
        [
         "RI",
         233.3
        ],
        [
         "MA",
         226.9
        ],
        [
         "WI",
         226.2
        ],
        [
         "MD",
         223.1
        ],
        [
         "CO",
         220.1
        ],
        [
         "NC",
         218.9
        ],
        [
         "VA",
         212.5
        ],
        [
         "OR",
         211.3
        ],
        [
         "MN",
         209.4
        ],
        [
         "FL",
         208.0
        ],
        [
         "AZ",
         206.1
        ],
        [
         "NV",
         205.9
        ],
        [
         "CT",
         205.1
        ],
        [
         "PA",
         204.9
        ],
        [
         "CT",
         202.6
        ],
        [
         "TX",
         200.3
        ],
        [
         "NC",
         197.5
        ],
        [
         "NC",
         197.2
        ],
        [
         "NC",
         196.9
        ],
        [
         "WI",
         195.4
        ],
        [
         "OR",
         193.9
        ],
        [
         "IL",
         192.5
        ],
        [
         "TX",
         192.5
        ],
        [
         "VA",
         190.0
        ],
        [
         "TN",
         186.4
        ],
        [
         "TX",
         184.7
        ],
        [
         "MA",
         183.9
        ],
        [
         "FL",
         182.5
        ],
        [
         "WA",
         180.2
        ],
        [
         "ND",
         180.0
        ],
        [
         "ID",
         178.7
        ],
        [
         "AZ",
         178.1
        ],
        [
         "LA",
         177.2
        ],
        [
         "TX",
         172.9
        ],
        [
         "NM",
         172.2
        ],
        [
         "FL",
         172.0
        ],
        [
         "FL",
         170.5
        ],
        [
         "FL",
         169.9
        ],
        [
         "AL",
         162.9
        ],
        [
         "PA",
         162.7
        ],
        [
         "SD",
         159.5
        ],
        [
         "GA",
         158.0
        ],
        [
         "AL",
         157.7
        ],
        [
         "IA",
         156.9
        ],
        [
         "FL",
         156.0
        ],
        [
         "MS",
         154.1
        ],
        [
         "MO",
         153.0
        ],
        [
         "LA",
         151.6
        ],
        [
         "NE",
         150.2
        ],
        [
         "OH",
         149.9
        ],
        [
         "TN",
         149.2
        ],
        [
         "NE",
         148.1
        ],
        [
         "TX",
         145.7
        ],
        [
         "OK",
         145.1
        ],
        [
         "FL",
         145.0
        ],
        [
         "NC",
         145.0
        ],
        [
         "TX",
         144.4
        ],
        [
         "TN",
         143.6
        ],
        [
         "KY",
         141.2
        ],
        [
         "KY",
         141.1
        ],
        [
         "IN",
         139.2
        ],
        [
         "NC",
         138.6
        ],
        [
         "TX",
         138.4
        ],
        [
         "NC",
         138.3
        ],
        [
         "FL",
         136.0
        ],
        [
         "OH",
         135.0
        ],
        [
         "TX",
         133.3
        ],
        [
         "TN",
         132.1
        ],
        [
         "AR",
         131.8
        ],
        [
         "AL",
         129.0
        ],
        [
         "KS",
         126.0
        ],
        [
         "AL",
         122.5
        ],
        [
         "NY",
         118.9
        ],
        [
         "NY",
         118.3
        ],
        [
         "NY",
         117.3
        ],
        [
         "MO",
         116.5
        ],
        [
         "IL",
         115.2
        ],
        [
         "MI",
         114.6
        ],
        [
         "IA",
         109.4
        ],
        [
         "OH",
         107.2
        ],
        [
         "IN",
         106.3
        ],
        [
         "OH",
         105.9
        ],
        [
         "KS",
         105.3
        ],
        [
         "IL",
         105.2
        ],
        [
         "OH",
         95.4
        ],
        [
         "OH",
         83.8
        ],
        [
         "IL",
         78.6
        ]
       ],
       "datasetInfos": [],
       "dbfsResultPath": null,
       "isJsonSchema": true,
       "metadata": {},
       "overflow": false,
       "plotOptions": {
        "customPlotOptions": {},
        "displayType": "table",
        "pivotAggregation": null,
        "pivotColumns": null,
        "xColumns": null,
        "yColumns": null
       },
       "removedWidgets": [],
       "schema": [
        {
         "metadata": "{}",
         "name": "State Code",
         "type": "\"string\""
        },
        {
         "metadata": "{}",
         "name": "2015 median sales price",
         "type": "\"double\""
        }
       ],
       "type": "table"
      }
     },
     "output_type": "display_data"
    },
    {
     "output_type": "display_data",
     "data": {
      "text/plain": [
       "Databricks visualization. Run in Databricks to view."
      ]
     },
     "metadata": {
      "application/vnd.databricks.v1.subcommand+json": {
       "baseErrorDetails": null,
       "bindings": {},
       "collapsed": false,
       "command": "%sql WITH q AS (select `State Code`, `2015 median sales price` \nfrom data_geo \norder by `2015 median sales price` desc) SELECT `State Code`,`2015 median sales price` FROM q",
       "commandTitle": "Visualización 1",
       "commandType": "auto",
       "commandVersion": 0,
       "commentThread": [],
       "commentsVisible": false,
       "contentSha256Hex": null,
       "customPlotOptions": {
        "redashChart": [
         {
          "key": "type",
          "value": "CHART"
         },
         {
          "key": "options",
          "value": {
           "alignYAxesAtZero": true,
           "coefficient": 1,
           "columnConfigurationMap": {
            "x": {
             "column": "State Code",
             "id": "column_3671dc9821"
            },
            "y": [
             {
              "column": "2015 median sales price",
              "id": "column_3671dc9822"
             }
            ]
           },
           "dateTimeFormat": "DD/MM/YYYY HH:mm",
           "direction": {
            "type": "counterclockwise"
           },
           "error_y": {
            "type": "data",
            "visible": true
           },
           "globalSeriesType": "box",
           "legend": {
            "traceorder": "normal"
           },
           "missingValuesAsZero": true,
           "numberFormat": "0,0.[00000]",
           "percentFormat": "0[.]00%",
           "series": {
            "error_y": {
             "type": "data",
             "visible": true
            },
            "stacking": null
           },
           "seriesOptions": {
            "2015 median sales price": {
             "type": "box",
             "yAxis": 0
            }
           },
           "showDataLabels": false,
           "sizemode": "diameter",
           "sortX": true,
           "sortY": true,
           "swappedAxes": false,
           "textFormat": "",
           "useAggregationsUi": true,
           "valuesOptions": {},
           "version": 2,
           "xAxis": {
            "labels": {
             "enabled": true
            },
            "type": "-"
           },
           "yAxis": [
            {
             "type": "-"
            },
            {
             "opposite": true,
             "type": "-"
            }
           ]
          }
         }
        ]
       },
       "datasetPreviewNameToCmdIdMap": {},
       "diffDeletes": [],
       "diffInserts": [],
       "displayType": "redashChart",
       "error": null,
       "errorDetails": null,
       "errorSummary": null,
       "errorTraceType": null,
       "finishTime": 0,
       "globalVars": {},
       "guid": "",
       "height": "auto",
       "hideCommandCode": false,
       "hideCommandResult": false,
       "iPythonMetadata": null,
       "inputWidgets": {},
       "isLockedInExamMode": false,
       "latestUser": "a user",
       "latestUserId": null,
       "listResultMetadata": null,
       "metadata": {},
       "nuid": "95e29f3e-335e-4838-b32b-7897dc64f53e",
       "origId": 0,
       "parentHierarchy": [],
       "pivotAggregation": null,
       "pivotColumns": null,
       "position": 9.5,
       "resultDbfsErrorMessage": null,
       "resultDbfsStatus": "INLINED_IN_TREE",
       "results": null,
       "showCommandTitle": false,
       "startTime": 0,
       "state": "input",
       "streamStates": {},
       "subcommandOptions": {
        "queryPlan": {
         "selects": [
          {
           "column": "State Code",
           "type": "column"
          },
          {
           "column": "2015 median sales price",
           "type": "column"
          }
         ]
        }
       },
       "submitTime": 0,
       "subtype": "tableResultSubCmd.visualization",
       "tableResultIndex": 0,
       "tableResultSettingsMap": {},
       "useConsistentColors": false,
       "version": "CommandV1",
       "width": "auto",
       "workflows": [],
       "xColumns": null,
       "yColumns": null
      }
     },
     "output_type": "display_data"
    }
   ],
   "source": [
    "%sql\n",
    "select `State Code`, `2015 median sales price` \n",
    "from data_geo \n",
    "order by `2015 median sales price` desc;"
   ]
  },
  {
   "cell_type": "markdown",
   "metadata": {
    "application/vnd.databricks.v1+cell": {
     "cellMetadata": {},
     "inputWidgets": {},
     "nuid": "801169f7-5062-4d47-b353-0bb5de3facf4",
     "showTitle": false,
     "tableResultSettingsMap": {},
     "title": ""
    }
   },
   "source": [
    "### Consulta SQL: Obtener los Precios de Venta Medios por Estado en 2015\n",
    "\n",
    "Esta consulta SQL obtiene el **precio de venta medio en 2015** para cada estado, ordenando los resultados de mayor a menor según el valor del precio medio. La consulta realiza lo siguiente:\n",
    "\n",
    "1. **Selección de Columnas**:\n",
    "   - **`State Code`**: El código del estado.\n",
    "   - **`2015 median sales price`**: El precio de venta medio en 2015.\n",
    "\n",
    "2. **Ordenación**:\n",
    "   Los resultados se ordenan en orden **descendente** (`desc`) según el precio de venta medio, lo que permite ver primero los estados con los precios más altos."
   ]
  },
  {
   "cell_type": "code",
   "execution_count": 0,
   "metadata": {
    "application/vnd.databricks.v1+cell": {
     "cellMetadata": {
      "byteLimit": 2048000,
      "implicitDf": true,
      "rowLimit": 10000
     },
     "inputWidgets": {},
     "nuid": "49f60e97-5817-4813-a129-cdc9fa660a10",
     "showTitle": false,
     "tableResultSettingsMap": {},
     "title": ""
    }
   },
   "outputs": [
    {
     "output_type": "display_data",
     "data": {
      "text/html": [
       "<style scoped>\n",
       "  .table-result-container {\n",
       "    max-height: 300px;\n",
       "    overflow: auto;\n",
       "  }\n",
       "  table, th, td {\n",
       "    border: 1px solid black;\n",
       "    border-collapse: collapse;\n",
       "  }\n",
       "  th, td {\n",
       "    padding: 5px;\n",
       "  }\n",
       "  th {\n",
       "    text-align: left;\n",
       "  }\n",
       "</style><div class='table-result-container'><table class='table-result'><thead style='background-color: white'><tr><th>State Code</th><th>2015 median sales price</th></tr></thead><tbody><tr><td>CA</td><td>900.0</td></tr><tr><td>CA</td><td>748.3</td></tr><tr><td>HI</td><td>699.3</td></tr><tr><td>CA</td><td>685.7</td></tr><tr><td>CA</td><td>510.3</td></tr><tr><td>CO</td><td>442.2</td></tr><tr><td>CA</td><td>434.7</td></tr><tr><td>NY</td><td>388.6</td></tr><tr><td>MA</td><td>374.6</td></tr><tr><td>DC</td><td>367.8</td></tr><tr><td>WA</td><td>352.4</td></tr><tr><td>NJ</td><td>350.8</td></tr><tr><td>CT</td><td>342.7</td></tr><tr><td>CO</td><td>338.1</td></tr><tr><td>OR</td><td>289.4</td></tr><tr><td>CA</td><td>281.0</td></tr><tr><td>CA</td><td>275.8</td></tr><tr><td>FL</td><td>269.1</td></tr><tr><td>NV</td><td>268.7</td></tr><tr><td>TX</td><td>249.1</td></tr><tr><td>UT</td><td>243.3</td></tr><tr><td>NH</td><td>237.4</td></tr><tr><td>RI</td><td>233.3</td></tr><tr><td>MA</td><td>226.9</td></tr><tr><td>WI</td><td>226.2</td></tr><tr><td>MD</td><td>223.1</td></tr><tr><td>CO</td><td>220.1</td></tr><tr><td>NC</td><td>218.9</td></tr><tr><td>VA</td><td>212.5</td></tr><tr><td>OR</td><td>211.3</td></tr><tr><td>MN</td><td>209.4</td></tr><tr><td>FL</td><td>208.0</td></tr><tr><td>AZ</td><td>206.1</td></tr><tr><td>NV</td><td>205.9</td></tr><tr><td>CT</td><td>205.1</td></tr><tr><td>PA</td><td>204.9</td></tr><tr><td>CT</td><td>202.6</td></tr><tr><td>TX</td><td>200.3</td></tr><tr><td>NC</td><td>197.5</td></tr><tr><td>NC</td><td>197.2</td></tr><tr><td>NC</td><td>196.9</td></tr><tr><td>WI</td><td>195.4</td></tr><tr><td>OR</td><td>193.9</td></tr><tr><td>IL</td><td>192.5</td></tr><tr><td>TX</td><td>192.5</td></tr><tr><td>VA</td><td>190.0</td></tr><tr><td>TN</td><td>186.4</td></tr><tr><td>TX</td><td>184.7</td></tr><tr><td>MA</td><td>183.9</td></tr><tr><td>FL</td><td>182.5</td></tr><tr><td>WA</td><td>180.2</td></tr><tr><td>ND</td><td>180.0</td></tr><tr><td>ID</td><td>178.7</td></tr><tr><td>AZ</td><td>178.1</td></tr><tr><td>LA</td><td>177.2</td></tr><tr><td>TX</td><td>172.9</td></tr><tr><td>NM</td><td>172.2</td></tr><tr><td>FL</td><td>172.0</td></tr><tr><td>FL</td><td>170.5</td></tr><tr><td>FL</td><td>169.9</td></tr><tr><td>AL</td><td>162.9</td></tr><tr><td>PA</td><td>162.7</td></tr><tr><td>SD</td><td>159.5</td></tr><tr><td>GA</td><td>158.0</td></tr><tr><td>AL</td><td>157.7</td></tr><tr><td>IA</td><td>156.9</td></tr><tr><td>FL</td><td>156.0</td></tr><tr><td>MS</td><td>154.1</td></tr><tr><td>MO</td><td>153.0</td></tr><tr><td>LA</td><td>151.6</td></tr><tr><td>NE</td><td>150.2</td></tr><tr><td>OH</td><td>149.9</td></tr><tr><td>TN</td><td>149.2</td></tr><tr><td>NE</td><td>148.1</td></tr><tr><td>TX</td><td>145.7</td></tr><tr><td>OK</td><td>145.1</td></tr><tr><td>FL</td><td>145.0</td></tr><tr><td>NC</td><td>145.0</td></tr><tr><td>TX</td><td>144.4</td></tr><tr><td>TN</td><td>143.6</td></tr><tr><td>KY</td><td>141.2</td></tr><tr><td>KY</td><td>141.1</td></tr><tr><td>IN</td><td>139.2</td></tr><tr><td>NC</td><td>138.6</td></tr><tr><td>TX</td><td>138.4</td></tr><tr><td>NC</td><td>138.3</td></tr><tr><td>FL</td><td>136.0</td></tr><tr><td>OH</td><td>135.0</td></tr><tr><td>TX</td><td>133.3</td></tr><tr><td>TN</td><td>132.1</td></tr><tr><td>AR</td><td>131.8</td></tr><tr><td>AL</td><td>129.0</td></tr><tr><td>KS</td><td>126.0</td></tr><tr><td>AL</td><td>122.5</td></tr><tr><td>NY</td><td>118.9</td></tr><tr><td>NY</td><td>118.3</td></tr><tr><td>NY</td><td>117.3</td></tr><tr><td>MO</td><td>116.5</td></tr><tr><td>IL</td><td>115.2</td></tr><tr><td>MI</td><td>114.6</td></tr><tr><td>IA</td><td>109.4</td></tr><tr><td>OH</td><td>107.2</td></tr><tr><td>IN</td><td>106.3</td></tr><tr><td>OH</td><td>105.9</td></tr><tr><td>KS</td><td>105.3</td></tr><tr><td>IL</td><td>105.2</td></tr><tr><td>OH</td><td>95.4</td></tr><tr><td>OH</td><td>83.8</td></tr><tr><td>IL</td><td>78.6</td></tr></tbody></table></div>"
      ]
     },
     "metadata": {
      "application/vnd.databricks.v1+output": {
       "addedWidgets": {},
       "aggData": [],
       "aggError": "",
       "aggOverflow": false,
       "aggSchema": [],
       "aggSeriesLimitReached": false,
       "aggType": "",
       "arguments": {},
       "columnCustomDisplayInfos": {},
       "data": [
        [
         "CA",
         900.0
        ],
        [
         "CA",
         748.3
        ],
        [
         "HI",
         699.3
        ],
        [
         "CA",
         685.7
        ],
        [
         "CA",
         510.3
        ],
        [
         "CO",
         442.2
        ],
        [
         "CA",
         434.7
        ],
        [
         "NY",
         388.6
        ],
        [
         "MA",
         374.6
        ],
        [
         "DC",
         367.8
        ],
        [
         "WA",
         352.4
        ],
        [
         "NJ",
         350.8
        ],
        [
         "CT",
         342.7
        ],
        [
         "CO",
         338.1
        ],
        [
         "OR",
         289.4
        ],
        [
         "CA",
         281.0
        ],
        [
         "CA",
         275.8
        ],
        [
         "FL",
         269.1
        ],
        [
         "NV",
         268.7
        ],
        [
         "TX",
         249.1
        ],
        [
         "UT",
         243.3
        ],
        [
         "NH",
         237.4
        ],
        [
         "RI",
         233.3
        ],
        [
         "MA",
         226.9
        ],
        [
         "WI",
         226.2
        ],
        [
         "MD",
         223.1
        ],
        [
         "CO",
         220.1
        ],
        [
         "NC",
         218.9
        ],
        [
         "VA",
         212.5
        ],
        [
         "OR",
         211.3
        ],
        [
         "MN",
         209.4
        ],
        [
         "FL",
         208.0
        ],
        [
         "AZ",
         206.1
        ],
        [
         "NV",
         205.9
        ],
        [
         "CT",
         205.1
        ],
        [
         "PA",
         204.9
        ],
        [
         "CT",
         202.6
        ],
        [
         "TX",
         200.3
        ],
        [
         "NC",
         197.5
        ],
        [
         "NC",
         197.2
        ],
        [
         "NC",
         196.9
        ],
        [
         "WI",
         195.4
        ],
        [
         "OR",
         193.9
        ],
        [
         "IL",
         192.5
        ],
        [
         "TX",
         192.5
        ],
        [
         "VA",
         190.0
        ],
        [
         "TN",
         186.4
        ],
        [
         "TX",
         184.7
        ],
        [
         "MA",
         183.9
        ],
        [
         "FL",
         182.5
        ],
        [
         "WA",
         180.2
        ],
        [
         "ND",
         180.0
        ],
        [
         "ID",
         178.7
        ],
        [
         "AZ",
         178.1
        ],
        [
         "LA",
         177.2
        ],
        [
         "TX",
         172.9
        ],
        [
         "NM",
         172.2
        ],
        [
         "FL",
         172.0
        ],
        [
         "FL",
         170.5
        ],
        [
         "FL",
         169.9
        ],
        [
         "AL",
         162.9
        ],
        [
         "PA",
         162.7
        ],
        [
         "SD",
         159.5
        ],
        [
         "GA",
         158.0
        ],
        [
         "AL",
         157.7
        ],
        [
         "IA",
         156.9
        ],
        [
         "FL",
         156.0
        ],
        [
         "MS",
         154.1
        ],
        [
         "MO",
         153.0
        ],
        [
         "LA",
         151.6
        ],
        [
         "NE",
         150.2
        ],
        [
         "OH",
         149.9
        ],
        [
         "TN",
         149.2
        ],
        [
         "NE",
         148.1
        ],
        [
         "TX",
         145.7
        ],
        [
         "OK",
         145.1
        ],
        [
         "FL",
         145.0
        ],
        [
         "NC",
         145.0
        ],
        [
         "TX",
         144.4
        ],
        [
         "TN",
         143.6
        ],
        [
         "KY",
         141.2
        ],
        [
         "KY",
         141.1
        ],
        [
         "IN",
         139.2
        ],
        [
         "NC",
         138.6
        ],
        [
         "TX",
         138.4
        ],
        [
         "NC",
         138.3
        ],
        [
         "FL",
         136.0
        ],
        [
         "OH",
         135.0
        ],
        [
         "TX",
         133.3
        ],
        [
         "TN",
         132.1
        ],
        [
         "AR",
         131.8
        ],
        [
         "AL",
         129.0
        ],
        [
         "KS",
         126.0
        ],
        [
         "AL",
         122.5
        ],
        [
         "NY",
         118.9
        ],
        [
         "NY",
         118.3
        ],
        [
         "NY",
         117.3
        ],
        [
         "MO",
         116.5
        ],
        [
         "IL",
         115.2
        ],
        [
         "MI",
         114.6
        ],
        [
         "IA",
         109.4
        ],
        [
         "OH",
         107.2
        ],
        [
         "IN",
         106.3
        ],
        [
         "OH",
         105.9
        ],
        [
         "KS",
         105.3
        ],
        [
         "IL",
         105.2
        ],
        [
         "OH",
         95.4
        ],
        [
         "OH",
         83.8
        ],
        [
         "IL",
         78.6
        ]
       ],
       "datasetInfos": [],
       "dbfsResultPath": null,
       "isJsonSchema": true,
       "metadata": {},
       "overflow": false,
       "plotOptions": {
        "customPlotOptions": {},
        "displayType": "table",
        "pivotAggregation": null,
        "pivotColumns": null,
        "xColumns": null,
        "yColumns": null
       },
       "removedWidgets": [],
       "schema": [
        {
         "metadata": "{}",
         "name": "State Code",
         "type": "\"string\""
        },
        {
         "metadata": "{}",
         "name": "2015 median sales price",
         "type": "\"double\""
        }
       ],
       "type": "table"
      }
     },
     "output_type": "display_data"
    }
   ],
   "source": [
    "%sql\n",
    "select `State Code`, `2015 median sales price` \n",
    "from data_geo \n",
    "order by `2015 median sales price` desc;"
   ]
  },
  {
   "cell_type": "markdown",
   "metadata": {
    "application/vnd.databricks.v1+cell": {
     "cellMetadata": {},
     "inputWidgets": {},
     "nuid": "44ede3df-b5ac-4066-b0c2-46a1c33ce490",
     "showTitle": false,
     "tableResultSettingsMap": {},
     "title": ""
    }
   },
   "source": [
    "### Ciudades con Precio de Venta Medio en 2015 >= $300,000\n",
    "\n",
    "Este análisis muestra las ciudades cuyo precio de venta medio en 2015 fue igual o superior a $300,000. Este umbral nos permite identificar áreas donde los precios de la vivienda eran relativamente altos en comparación con otras regiones, lo que puede ser útil para estudios de mercado o análisis de tendencias inmobiliarias."
   ]
  },
  {
   "cell_type": "code",
   "execution_count": 0,
   "metadata": {
    "application/vnd.databricks.v1+cell": {
     "cellMetadata": {
      "byteLimit": 2048000,
      "implicitDf": true,
      "rowLimit": 10000
     },
     "inputWidgets": {},
     "nuid": "a370e563-a633-4268-a151-9b9579182086",
     "showTitle": false,
     "tableResultSettingsMap": {},
     "title": ""
    }
   },
   "outputs": [
    {
     "output_type": "display_data",
     "data": {
      "text/html": [
       "<style scoped>\n",
       "  .table-result-container {\n",
       "    max-height: 300px;\n",
       "    overflow: auto;\n",
       "  }\n",
       "  table, th, td {\n",
       "    border: 1px solid black;\n",
       "    border-collapse: collapse;\n",
       "  }\n",
       "  th, td {\n",
       "    padding: 5px;\n",
       "  }\n",
       "  th {\n",
       "    text-align: left;\n",
       "  }\n",
       "</style><div class='table-result-container'><table class='table-result'><thead style='background-color: white'><tr><th>City</th><th>State Code</th><th>2015 median sales price</th></tr></thead><tbody><tr><td>Anaheim</td><td>CA</td><td>685.7</td></tr><tr><td>Los Angeles</td><td>CA</td><td>434.7</td></tr><tr><td>San Diego</td><td>CA</td><td>510.3</td></tr><tr><td>San Francisco[10]</td><td>CA</td><td>748.3</td></tr><tr><td>San Jose</td><td>CA</td><td>900.0</td></tr><tr><td>Boulder</td><td>CO</td><td>442.2</td></tr><tr><td>Denver[12]</td><td>CO</td><td>338.1</td></tr><tr><td>Bridgeport</td><td>CT</td><td>342.7</td></tr><tr><td>Washington[13]</td><td>DC</td><td>367.8</td></tr><tr><td>Honolulu[2]</td><td>HI</td><td>699.3</td></tr><tr><td>Boston</td><td>MA</td><td>374.6</td></tr><tr><td>Newark</td><td>NJ</td><td>350.8</td></tr><tr><td>New York[6]</td><td>NY</td><td>388.6</td></tr><tr><td>Seattle</td><td>WA</td><td>352.4</td></tr></tbody></table></div>"
      ]
     },
     "metadata": {
      "application/vnd.databricks.v1+output": {
       "addedWidgets": {},
       "aggData": [],
       "aggError": "",
       "aggOverflow": false,
       "aggSchema": [],
       "aggSeriesLimitReached": false,
       "aggType": "",
       "arguments": {},
       "columnCustomDisplayInfos": {},
       "data": [
        [
         "Anaheim",
         "CA",
         685.7
        ],
        [
         "Los Angeles",
         "CA",
         434.7
        ],
        [
         "San Diego",
         "CA",
         510.3
        ],
        [
         "San Francisco[10]",
         "CA",
         748.3
        ],
        [
         "San Jose",
         "CA",
         900.0
        ],
        [
         "Boulder",
         "CO",
         442.2
        ],
        [
         "Denver[12]",
         "CO",
         338.1
        ],
        [
         "Bridgeport",
         "CT",
         342.7
        ],
        [
         "Washington[13]",
         "DC",
         367.8
        ],
        [
         "Honolulu[2]",
         "HI",
         699.3
        ],
        [
         "Boston",
         "MA",
         374.6
        ],
        [
         "Newark",
         "NJ",
         350.8
        ],
        [
         "New York[6]",
         "NY",
         388.6
        ],
        [
         "Seattle",
         "WA",
         352.4
        ]
       ],
       "datasetInfos": [],
       "dbfsResultPath": null,
       "isJsonSchema": true,
       "metadata": {},
       "overflow": false,
       "plotOptions": {
        "customPlotOptions": {},
        "displayType": "table",
        "pivotAggregation": null,
        "pivotColumns": null,
        "xColumns": null,
        "yColumns": null
       },
       "removedWidgets": [],
       "schema": [
        {
         "metadata": "{}",
         "name": "City",
         "type": "\"string\""
        },
        {
         "metadata": "{}",
         "name": "State Code",
         "type": "\"string\""
        },
        {
         "metadata": "{}",
         "name": "2015 median sales price",
         "type": "\"double\""
        }
       ],
       "type": "table"
      }
     },
     "output_type": "display_data"
    }
   ],
   "source": [
    "%sql\n",
    "select `City`, `State Code`, `2015 median sales price` \n",
    "from data_geo \n",
    "where `2015 median sales price` >= 300 limit 20;"
   ]
  },
  {
   "cell_type": "markdown",
   "metadata": {
    "application/vnd.databricks.v1+cell": {
     "cellMetadata": {},
     "inputWidgets": {},
     "nuid": "c278c970-2b73-40af-9453-0a590a5616ad",
     "showTitle": false,
     "tableResultSettingsMap": {},
     "title": ""
    }
   },
   "source": [
    "### Consulta SQL: Categorizar Estados según Precio Medio de Venta en 2015\n",
    "\n",
    "Esta consulta SQL categoriza los estados en función del precio de venta medio en 2015, utilizando un umbral de $300,000. La consulta realiza lo siguiente:\n",
    "\n",
    "1. **Selección de Columnas**:\n",
    "   - **`State Code`**: El código del estado.\n",
    "   - **`Category`**: Se crea una nueva columna que categoriza los estados en dos grupos:\n",
    "     - **`>=300K`**: Si el precio medio de venta en 2015 es mayor o igual a $300,000.\n",
    "     - **`< 300K`**: Si el precio medio de venta en 2015 es inferior a $300,000.\n",
    "   - **`2015 median sales price`**: El precio de venta medio en 2015.\n",
    "\n",
    "2. **Condición**:\n",
    "   Utiliza una cláusula `CASE` para asignar la categoría de cada estado según su precio medio de venta.\n",
    "\n",
    "3. **Ordenación**:\n",
    "   Los resultados se ordenan en orden descendente según el precio de venta medio de 2015 (`2015 median sales price`), de modo que los estados con los precios más altos aparezcan primero.\n"
   ]
  },
  {
   "cell_type": "code",
   "execution_count": 0,
   "metadata": {
    "application/vnd.databricks.v1+cell": {
     "cellMetadata": {
      "byteLimit": 2048000,
      "implicitDf": true,
      "rowLimit": 10000
     },
     "inputWidgets": {},
     "nuid": "6fb0cc5f-9293-4778-a950-8c4165f8c1db",
     "showTitle": false,
     "tableResultSettingsMap": {},
     "title": ""
    }
   },
   "outputs": [
    {
     "output_type": "display_data",
     "data": {
      "text/html": [
       "<style scoped>\n",
       "  .table-result-container {\n",
       "    max-height: 300px;\n",
       "    overflow: auto;\n",
       "  }\n",
       "  table, th, td {\n",
       "    border: 1px solid black;\n",
       "    border-collapse: collapse;\n",
       "  }\n",
       "  th, td {\n",
       "    padding: 5px;\n",
       "  }\n",
       "  th {\n",
       "    text-align: left;\n",
       "  }\n",
       "</style><div class='table-result-container'><table class='table-result'><thead style='background-color: white'><tr><th>State Code</th><th>Category</th><th>2015 median sales price</th></tr></thead><tbody><tr><td>CA</td><td>>=300K</td><td>900.0</td></tr><tr><td>CA</td><td>>=300K</td><td>748.3</td></tr><tr><td>HI</td><td>>=300K</td><td>699.3</td></tr><tr><td>CA</td><td>>=300K</td><td>685.7</td></tr><tr><td>CA</td><td>>=300K</td><td>510.3</td></tr><tr><td>CO</td><td>>=300K</td><td>442.2</td></tr><tr><td>CA</td><td>>=300K</td><td>434.7</td></tr><tr><td>NY</td><td>>=300K</td><td>388.6</td></tr><tr><td>MA</td><td>>=300K</td><td>374.6</td></tr><tr><td>DC</td><td>>=300K</td><td>367.8</td></tr><tr><td>WA</td><td>>=300K</td><td>352.4</td></tr><tr><td>NJ</td><td>>=300K</td><td>350.8</td></tr><tr><td>CT</td><td>>=300K</td><td>342.7</td></tr><tr><td>CO</td><td>>=300K</td><td>338.1</td></tr><tr><td>OR</td><td>< 300K</td><td>289.4</td></tr><tr><td>CA</td><td>< 300K</td><td>281.0</td></tr><tr><td>CA</td><td>< 300K</td><td>275.8</td></tr><tr><td>FL</td><td>< 300K</td><td>269.1</td></tr><tr><td>NV</td><td>< 300K</td><td>268.7</td></tr><tr><td>TX</td><td>< 300K</td><td>249.1</td></tr><tr><td>UT</td><td>< 300K</td><td>243.3</td></tr><tr><td>NH</td><td>< 300K</td><td>237.4</td></tr><tr><td>RI</td><td>< 300K</td><td>233.3</td></tr><tr><td>MA</td><td>< 300K</td><td>226.9</td></tr><tr><td>WI</td><td>< 300K</td><td>226.2</td></tr><tr><td>MD</td><td>< 300K</td><td>223.1</td></tr><tr><td>CO</td><td>< 300K</td><td>220.1</td></tr><tr><td>NC</td><td>< 300K</td><td>218.9</td></tr><tr><td>VA</td><td>< 300K</td><td>212.5</td></tr><tr><td>OR</td><td>< 300K</td><td>211.3</td></tr><tr><td>MN</td><td>< 300K</td><td>209.4</td></tr><tr><td>FL</td><td>< 300K</td><td>208.0</td></tr><tr><td>AZ</td><td>< 300K</td><td>206.1</td></tr><tr><td>NV</td><td>< 300K</td><td>205.9</td></tr><tr><td>CT</td><td>< 300K</td><td>205.1</td></tr><tr><td>PA</td><td>< 300K</td><td>204.9</td></tr><tr><td>CT</td><td>< 300K</td><td>202.6</td></tr><tr><td>TX</td><td>< 300K</td><td>200.3</td></tr><tr><td>NC</td><td>< 300K</td><td>197.5</td></tr><tr><td>NC</td><td>< 300K</td><td>197.2</td></tr><tr><td>NC</td><td>< 300K</td><td>196.9</td></tr><tr><td>WI</td><td>< 300K</td><td>195.4</td></tr><tr><td>OR</td><td>< 300K</td><td>193.9</td></tr><tr><td>IL</td><td>< 300K</td><td>192.5</td></tr><tr><td>TX</td><td>< 300K</td><td>192.5</td></tr><tr><td>VA</td><td>< 300K</td><td>190.0</td></tr><tr><td>TN</td><td>< 300K</td><td>186.4</td></tr><tr><td>TX</td><td>< 300K</td><td>184.7</td></tr><tr><td>MA</td><td>< 300K</td><td>183.9</td></tr><tr><td>FL</td><td>< 300K</td><td>182.5</td></tr><tr><td>WA</td><td>< 300K</td><td>180.2</td></tr><tr><td>ND</td><td>< 300K</td><td>180.0</td></tr><tr><td>ID</td><td>< 300K</td><td>178.7</td></tr><tr><td>AZ</td><td>< 300K</td><td>178.1</td></tr><tr><td>LA</td><td>< 300K</td><td>177.2</td></tr><tr><td>TX</td><td>< 300K</td><td>172.9</td></tr><tr><td>NM</td><td>< 300K</td><td>172.2</td></tr><tr><td>FL</td><td>< 300K</td><td>172.0</td></tr><tr><td>FL</td><td>< 300K</td><td>170.5</td></tr><tr><td>FL</td><td>< 300K</td><td>169.9</td></tr><tr><td>AL</td><td>< 300K</td><td>162.9</td></tr><tr><td>PA</td><td>< 300K</td><td>162.7</td></tr><tr><td>SD</td><td>< 300K</td><td>159.5</td></tr><tr><td>GA</td><td>< 300K</td><td>158.0</td></tr><tr><td>AL</td><td>< 300K</td><td>157.7</td></tr><tr><td>IA</td><td>< 300K</td><td>156.9</td></tr><tr><td>FL</td><td>< 300K</td><td>156.0</td></tr><tr><td>MS</td><td>< 300K</td><td>154.1</td></tr><tr><td>MO</td><td>< 300K</td><td>153.0</td></tr><tr><td>LA</td><td>< 300K</td><td>151.6</td></tr><tr><td>NE</td><td>< 300K</td><td>150.2</td></tr><tr><td>OH</td><td>< 300K</td><td>149.9</td></tr><tr><td>TN</td><td>< 300K</td><td>149.2</td></tr><tr><td>NE</td><td>< 300K</td><td>148.1</td></tr><tr><td>TX</td><td>< 300K</td><td>145.7</td></tr><tr><td>OK</td><td>< 300K</td><td>145.1</td></tr><tr><td>FL</td><td>< 300K</td><td>145.0</td></tr><tr><td>NC</td><td>< 300K</td><td>145.0</td></tr><tr><td>TX</td><td>< 300K</td><td>144.4</td></tr><tr><td>TN</td><td>< 300K</td><td>143.6</td></tr><tr><td>KY</td><td>< 300K</td><td>141.2</td></tr><tr><td>KY</td><td>< 300K</td><td>141.1</td></tr><tr><td>IN</td><td>< 300K</td><td>139.2</td></tr><tr><td>NC</td><td>< 300K</td><td>138.6</td></tr><tr><td>TX</td><td>< 300K</td><td>138.4</td></tr><tr><td>NC</td><td>< 300K</td><td>138.3</td></tr><tr><td>FL</td><td>< 300K</td><td>136.0</td></tr><tr><td>OH</td><td>< 300K</td><td>135.0</td></tr><tr><td>TX</td><td>< 300K</td><td>133.3</td></tr><tr><td>TN</td><td>< 300K</td><td>132.1</td></tr><tr><td>AR</td><td>< 300K</td><td>131.8</td></tr><tr><td>AL</td><td>< 300K</td><td>129.0</td></tr><tr><td>KS</td><td>< 300K</td><td>126.0</td></tr><tr><td>AL</td><td>< 300K</td><td>122.5</td></tr><tr><td>NY</td><td>< 300K</td><td>118.9</td></tr><tr><td>NY</td><td>< 300K</td><td>118.3</td></tr><tr><td>NY</td><td>< 300K</td><td>117.3</td></tr><tr><td>MO</td><td>< 300K</td><td>116.5</td></tr><tr><td>IL</td><td>< 300K</td><td>115.2</td></tr><tr><td>MI</td><td>< 300K</td><td>114.6</td></tr><tr><td>IA</td><td>< 300K</td><td>109.4</td></tr><tr><td>OH</td><td>< 300K</td><td>107.2</td></tr><tr><td>IN</td><td>< 300K</td><td>106.3</td></tr><tr><td>OH</td><td>< 300K</td><td>105.9</td></tr><tr><td>KS</td><td>< 300K</td><td>105.3</td></tr><tr><td>IL</td><td>< 300K</td><td>105.2</td></tr><tr><td>OH</td><td>< 300K</td><td>95.4</td></tr><tr><td>OH</td><td>< 300K</td><td>83.8</td></tr><tr><td>IL</td><td>< 300K</td><td>78.6</td></tr></tbody></table></div>"
      ]
     },
     "metadata": {
      "application/vnd.databricks.v1+output": {
       "addedWidgets": {},
       "aggData": [],
       "aggError": "",
       "aggOverflow": false,
       "aggSchema": [],
       "aggSeriesLimitReached": false,
       "aggType": "",
       "arguments": {},
       "columnCustomDisplayInfos": {},
       "data": [
        [
         "CA",
         ">=300K",
         900.0
        ],
        [
         "CA",
         ">=300K",
         748.3
        ],
        [
         "HI",
         ">=300K",
         699.3
        ],
        [
         "CA",
         ">=300K",
         685.7
        ],
        [
         "CA",
         ">=300K",
         510.3
        ],
        [
         "CO",
         ">=300K",
         442.2
        ],
        [
         "CA",
         ">=300K",
         434.7
        ],
        [
         "NY",
         ">=300K",
         388.6
        ],
        [
         "MA",
         ">=300K",
         374.6
        ],
        [
         "DC",
         ">=300K",
         367.8
        ],
        [
         "WA",
         ">=300K",
         352.4
        ],
        [
         "NJ",
         ">=300K",
         350.8
        ],
        [
         "CT",
         ">=300K",
         342.7
        ],
        [
         "CO",
         ">=300K",
         338.1
        ],
        [
         "OR",
         "< 300K",
         289.4
        ],
        [
         "CA",
         "< 300K",
         281.0
        ],
        [
         "CA",
         "< 300K",
         275.8
        ],
        [
         "FL",
         "< 300K",
         269.1
        ],
        [
         "NV",
         "< 300K",
         268.7
        ],
        [
         "TX",
         "< 300K",
         249.1
        ],
        [
         "UT",
         "< 300K",
         243.3
        ],
        [
         "NH",
         "< 300K",
         237.4
        ],
        [
         "RI",
         "< 300K",
         233.3
        ],
        [
         "MA",
         "< 300K",
         226.9
        ],
        [
         "WI",
         "< 300K",
         226.2
        ],
        [
         "MD",
         "< 300K",
         223.1
        ],
        [
         "CO",
         "< 300K",
         220.1
        ],
        [
         "NC",
         "< 300K",
         218.9
        ],
        [
         "VA",
         "< 300K",
         212.5
        ],
        [
         "OR",
         "< 300K",
         211.3
        ],
        [
         "MN",
         "< 300K",
         209.4
        ],
        [
         "FL",
         "< 300K",
         208.0
        ],
        [
         "AZ",
         "< 300K",
         206.1
        ],
        [
         "NV",
         "< 300K",
         205.9
        ],
        [
         "CT",
         "< 300K",
         205.1
        ],
        [
         "PA",
         "< 300K",
         204.9
        ],
        [
         "CT",
         "< 300K",
         202.6
        ],
        [
         "TX",
         "< 300K",
         200.3
        ],
        [
         "NC",
         "< 300K",
         197.5
        ],
        [
         "NC",
         "< 300K",
         197.2
        ],
        [
         "NC",
         "< 300K",
         196.9
        ],
        [
         "WI",
         "< 300K",
         195.4
        ],
        [
         "OR",
         "< 300K",
         193.9
        ],
        [
         "IL",
         "< 300K",
         192.5
        ],
        [
         "TX",
         "< 300K",
         192.5
        ],
        [
         "VA",
         "< 300K",
         190.0
        ],
        [
         "TN",
         "< 300K",
         186.4
        ],
        [
         "TX",
         "< 300K",
         184.7
        ],
        [
         "MA",
         "< 300K",
         183.9
        ],
        [
         "FL",
         "< 300K",
         182.5
        ],
        [
         "WA",
         "< 300K",
         180.2
        ],
        [
         "ND",
         "< 300K",
         180.0
        ],
        [
         "ID",
         "< 300K",
         178.7
        ],
        [
         "AZ",
         "< 300K",
         178.1
        ],
        [
         "LA",
         "< 300K",
         177.2
        ],
        [
         "TX",
         "< 300K",
         172.9
        ],
        [
         "NM",
         "< 300K",
         172.2
        ],
        [
         "FL",
         "< 300K",
         172.0
        ],
        [
         "FL",
         "< 300K",
         170.5
        ],
        [
         "FL",
         "< 300K",
         169.9
        ],
        [
         "AL",
         "< 300K",
         162.9
        ],
        [
         "PA",
         "< 300K",
         162.7
        ],
        [
         "SD",
         "< 300K",
         159.5
        ],
        [
         "GA",
         "< 300K",
         158.0
        ],
        [
         "AL",
         "< 300K",
         157.7
        ],
        [
         "IA",
         "< 300K",
         156.9
        ],
        [
         "FL",
         "< 300K",
         156.0
        ],
        [
         "MS",
         "< 300K",
         154.1
        ],
        [
         "MO",
         "< 300K",
         153.0
        ],
        [
         "LA",
         "< 300K",
         151.6
        ],
        [
         "NE",
         "< 300K",
         150.2
        ],
        [
         "OH",
         "< 300K",
         149.9
        ],
        [
         "TN",
         "< 300K",
         149.2
        ],
        [
         "NE",
         "< 300K",
         148.1
        ],
        [
         "TX",
         "< 300K",
         145.7
        ],
        [
         "OK",
         "< 300K",
         145.1
        ],
        [
         "FL",
         "< 300K",
         145.0
        ],
        [
         "NC",
         "< 300K",
         145.0
        ],
        [
         "TX",
         "< 300K",
         144.4
        ],
        [
         "TN",
         "< 300K",
         143.6
        ],
        [
         "KY",
         "< 300K",
         141.2
        ],
        [
         "KY",
         "< 300K",
         141.1
        ],
        [
         "IN",
         "< 300K",
         139.2
        ],
        [
         "NC",
         "< 300K",
         138.6
        ],
        [
         "TX",
         "< 300K",
         138.4
        ],
        [
         "NC",
         "< 300K",
         138.3
        ],
        [
         "FL",
         "< 300K",
         136.0
        ],
        [
         "OH",
         "< 300K",
         135.0
        ],
        [
         "TX",
         "< 300K",
         133.3
        ],
        [
         "TN",
         "< 300K",
         132.1
        ],
        [
         "AR",
         "< 300K",
         131.8
        ],
        [
         "AL",
         "< 300K",
         129.0
        ],
        [
         "KS",
         "< 300K",
         126.0
        ],
        [
         "AL",
         "< 300K",
         122.5
        ],
        [
         "NY",
         "< 300K",
         118.9
        ],
        [
         "NY",
         "< 300K",
         118.3
        ],
        [
         "NY",
         "< 300K",
         117.3
        ],
        [
         "MO",
         "< 300K",
         116.5
        ],
        [
         "IL",
         "< 300K",
         115.2
        ],
        [
         "MI",
         "< 300K",
         114.6
        ],
        [
         "IA",
         "< 300K",
         109.4
        ],
        [
         "OH",
         "< 300K",
         107.2
        ],
        [
         "IN",
         "< 300K",
         106.3
        ],
        [
         "OH",
         "< 300K",
         105.9
        ],
        [
         "KS",
         "< 300K",
         105.3
        ],
        [
         "IL",
         "< 300K",
         105.2
        ],
        [
         "OH",
         "< 300K",
         95.4
        ],
        [
         "OH",
         "< 300K",
         83.8
        ],
        [
         "IL",
         "< 300K",
         78.6
        ]
       ],
       "datasetInfos": [],
       "dbfsResultPath": null,
       "isJsonSchema": true,
       "metadata": {},
       "overflow": false,
       "plotOptions": {
        "customPlotOptions": {},
        "displayType": "table",
        "pivotAggregation": null,
        "pivotColumns": null,
        "xColumns": null,
        "yColumns": null
       },
       "removedWidgets": [],
       "schema": [
        {
         "metadata": "{}",
         "name": "State Code",
         "type": "\"string\""
        },
        {
         "metadata": "{}",
         "name": "Category",
         "type": "\"string\""
        },
        {
         "metadata": "{}",
         "name": "2015 median sales price",
         "type": "\"double\""
        }
       ],
       "type": "table"
      }
     },
     "output_type": "display_data"
    }
   ],
   "source": [
    "%sql\n",
    "select `State Code`, \n",
    "  case when `2015 median sales price` >= 300 then '>=300K' \n",
    "    when `2015 median sales price` < 300 then '< 300K' \n",
    "    end as `Category`, `2015 median sales price` \n",
    "from data_geo \n",
    "order by `2015 median sales price` desc;"
   ]
  }
 ],
 "metadata": {
  "application/vnd.databricks.v1+notebook": {
   "computePreferences": null,
   "dashboards": [],
   "environmentMetadata": {
    "base_environment": "",
    "client": "1"
   },
   "language": "python",
   "notebookMetadata": {
    "mostRecentlyExecutedCommandWithImplicitDF": {
     "commandId": 2232779499461030,
     "dataframes": [
      "_sqldf"
     ]
    },
    "pythonIndentUnit": 4
   },
   "notebookName": "Caso Practico",
   "widgets": {}
  }
 },
 "nbformat": 4,
 "nbformat_minor": 0
}
